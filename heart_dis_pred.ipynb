{
 "cells": [
  {
   "cell_type": "markdown",
   "id": "e50df25c",
   "metadata": {},
   "source": [
    "# Heart disease or attack prediction\n",
    "**Task of project: define good enough model to fit on data and predict our target value(heart failure)**"
   ]
  },
  {
   "cell_type": "code",
   "execution_count": 43,
   "id": "94959f57",
   "metadata": {},
   "outputs": [],
   "source": [
    "import pandas as pd\n",
    "import matplotlib.pyplot as plt\n",
    "import seaborn as sns\n",
    "import numpy as np\n",
    "from sklearn.model_selection import train_test_split, cross_val_score, cross_val_predict, learning_curve\n",
    "from imblearn.over_sampling import SMOTE\n",
    "from sklearn.linear_model import LogisticRegression, SGDClassifier\n",
    "from sklearn.tree import DecisionTreeClassifier\n",
    "from sklearn.metrics import confusion_matrix, classification_report\n",
    "from sklearn.preprocessing import StandardScaler\n",
    "from sklearn.naive_bayes import GaussianNB\n",
    "from sklearn.model_selection import GridSearchCV"
   ]
  },
  {
   "cell_type": "markdown",
   "id": "1bdadf51",
   "metadata": {},
   "source": [
    "# Data getting and preprocessing"
   ]
  },
  {
   "cell_type": "code",
   "execution_count": 2,
   "id": "1266e16c",
   "metadata": {},
   "outputs": [],
   "source": [
    "df = pd.read_csv('heart_disease_health_indicators_BRFSS2015.csv')"
   ]
  },
  {
   "cell_type": "code",
   "execution_count": 3,
   "id": "c3b5db67",
   "metadata": {},
   "outputs": [
    {
     "name": "stdout",
     "output_type": "stream",
     "text": [
      "<class 'pandas.core.frame.DataFrame'>\n",
      "RangeIndex: 253680 entries, 0 to 253679\n",
      "Data columns (total 22 columns):\n",
      " #   Column                Non-Null Count   Dtype  \n",
      "---  ------                --------------   -----  \n",
      " 0   HeartDiseaseorAttack  253680 non-null  float64\n",
      " 1   HighBP                253680 non-null  float64\n",
      " 2   HighChol              253680 non-null  float64\n",
      " 3   CholCheck             253680 non-null  float64\n",
      " 4   BMI                   253680 non-null  float64\n",
      " 5   Smoker                253680 non-null  float64\n",
      " 6   Stroke                253680 non-null  float64\n",
      " 7   Diabetes              253680 non-null  float64\n",
      " 8   PhysActivity          253680 non-null  float64\n",
      " 9   Fruits                253680 non-null  float64\n",
      " 10  Veggies               253680 non-null  float64\n",
      " 11  HvyAlcoholConsump     253680 non-null  float64\n",
      " 12  AnyHealthcare         253680 non-null  float64\n",
      " 13  NoDocbcCost           253680 non-null  float64\n",
      " 14  GenHlth               253680 non-null  float64\n",
      " 15  MentHlth              253680 non-null  float64\n",
      " 16  PhysHlth              253680 non-null  float64\n",
      " 17  DiffWalk              253680 non-null  float64\n",
      " 18  Sex                   253680 non-null  float64\n",
      " 19  Age                   253680 non-null  float64\n",
      " 20  Education             253680 non-null  float64\n",
      " 21  Income                253680 non-null  float64\n",
      "dtypes: float64(22)\n",
      "memory usage: 42.6 MB\n"
     ]
    }
   ],
   "source": [
    "df.info()"
   ]
  },
  {
   "cell_type": "code",
   "execution_count": 4,
   "id": "f9411dff",
   "metadata": {},
   "outputs": [
    {
     "data": {
      "text/html": [
       "<div>\n",
       "<style scoped>\n",
       "    .dataframe tbody tr th:only-of-type {\n",
       "        vertical-align: middle;\n",
       "    }\n",
       "\n",
       "    .dataframe tbody tr th {\n",
       "        vertical-align: top;\n",
       "    }\n",
       "\n",
       "    .dataframe thead th {\n",
       "        text-align: right;\n",
       "    }\n",
       "</style>\n",
       "<table border=\"1\" class=\"dataframe\">\n",
       "  <thead>\n",
       "    <tr style=\"text-align: right;\">\n",
       "      <th></th>\n",
       "      <th>HeartDiseaseorAttack</th>\n",
       "      <th>HighBP</th>\n",
       "      <th>HighChol</th>\n",
       "      <th>CholCheck</th>\n",
       "      <th>BMI</th>\n",
       "      <th>Smoker</th>\n",
       "      <th>Stroke</th>\n",
       "      <th>Diabetes</th>\n",
       "      <th>PhysActivity</th>\n",
       "      <th>Fruits</th>\n",
       "      <th>...</th>\n",
       "      <th>AnyHealthcare</th>\n",
       "      <th>NoDocbcCost</th>\n",
       "      <th>GenHlth</th>\n",
       "      <th>MentHlth</th>\n",
       "      <th>PhysHlth</th>\n",
       "      <th>DiffWalk</th>\n",
       "      <th>Sex</th>\n",
       "      <th>Age</th>\n",
       "      <th>Education</th>\n",
       "      <th>Income</th>\n",
       "    </tr>\n",
       "  </thead>\n",
       "  <tbody>\n",
       "    <tr>\n",
       "      <th>0</th>\n",
       "      <td>0.0</td>\n",
       "      <td>1.0</td>\n",
       "      <td>1.0</td>\n",
       "      <td>1.0</td>\n",
       "      <td>40.0</td>\n",
       "      <td>1.0</td>\n",
       "      <td>0.0</td>\n",
       "      <td>0.0</td>\n",
       "      <td>0.0</td>\n",
       "      <td>0.0</td>\n",
       "      <td>...</td>\n",
       "      <td>1.0</td>\n",
       "      <td>0.0</td>\n",
       "      <td>5.0</td>\n",
       "      <td>18.0</td>\n",
       "      <td>15.0</td>\n",
       "      <td>1.0</td>\n",
       "      <td>0.0</td>\n",
       "      <td>9.0</td>\n",
       "      <td>4.0</td>\n",
       "      <td>3.0</td>\n",
       "    </tr>\n",
       "    <tr>\n",
       "      <th>1</th>\n",
       "      <td>0.0</td>\n",
       "      <td>0.0</td>\n",
       "      <td>0.0</td>\n",
       "      <td>0.0</td>\n",
       "      <td>25.0</td>\n",
       "      <td>1.0</td>\n",
       "      <td>0.0</td>\n",
       "      <td>0.0</td>\n",
       "      <td>1.0</td>\n",
       "      <td>0.0</td>\n",
       "      <td>...</td>\n",
       "      <td>0.0</td>\n",
       "      <td>1.0</td>\n",
       "      <td>3.0</td>\n",
       "      <td>0.0</td>\n",
       "      <td>0.0</td>\n",
       "      <td>0.0</td>\n",
       "      <td>0.0</td>\n",
       "      <td>7.0</td>\n",
       "      <td>6.0</td>\n",
       "      <td>1.0</td>\n",
       "    </tr>\n",
       "    <tr>\n",
       "      <th>2</th>\n",
       "      <td>0.0</td>\n",
       "      <td>1.0</td>\n",
       "      <td>1.0</td>\n",
       "      <td>1.0</td>\n",
       "      <td>28.0</td>\n",
       "      <td>0.0</td>\n",
       "      <td>0.0</td>\n",
       "      <td>0.0</td>\n",
       "      <td>0.0</td>\n",
       "      <td>1.0</td>\n",
       "      <td>...</td>\n",
       "      <td>1.0</td>\n",
       "      <td>1.0</td>\n",
       "      <td>5.0</td>\n",
       "      <td>30.0</td>\n",
       "      <td>30.0</td>\n",
       "      <td>1.0</td>\n",
       "      <td>0.0</td>\n",
       "      <td>9.0</td>\n",
       "      <td>4.0</td>\n",
       "      <td>8.0</td>\n",
       "    </tr>\n",
       "    <tr>\n",
       "      <th>3</th>\n",
       "      <td>0.0</td>\n",
       "      <td>1.0</td>\n",
       "      <td>0.0</td>\n",
       "      <td>1.0</td>\n",
       "      <td>27.0</td>\n",
       "      <td>0.0</td>\n",
       "      <td>0.0</td>\n",
       "      <td>0.0</td>\n",
       "      <td>1.0</td>\n",
       "      <td>1.0</td>\n",
       "      <td>...</td>\n",
       "      <td>1.0</td>\n",
       "      <td>0.0</td>\n",
       "      <td>2.0</td>\n",
       "      <td>0.0</td>\n",
       "      <td>0.0</td>\n",
       "      <td>0.0</td>\n",
       "      <td>0.0</td>\n",
       "      <td>11.0</td>\n",
       "      <td>3.0</td>\n",
       "      <td>6.0</td>\n",
       "    </tr>\n",
       "    <tr>\n",
       "      <th>4</th>\n",
       "      <td>0.0</td>\n",
       "      <td>1.0</td>\n",
       "      <td>1.0</td>\n",
       "      <td>1.0</td>\n",
       "      <td>24.0</td>\n",
       "      <td>0.0</td>\n",
       "      <td>0.0</td>\n",
       "      <td>0.0</td>\n",
       "      <td>1.0</td>\n",
       "      <td>1.0</td>\n",
       "      <td>...</td>\n",
       "      <td>1.0</td>\n",
       "      <td>0.0</td>\n",
       "      <td>2.0</td>\n",
       "      <td>3.0</td>\n",
       "      <td>0.0</td>\n",
       "      <td>0.0</td>\n",
       "      <td>0.0</td>\n",
       "      <td>11.0</td>\n",
       "      <td>5.0</td>\n",
       "      <td>4.0</td>\n",
       "    </tr>\n",
       "  </tbody>\n",
       "</table>\n",
       "<p>5 rows × 22 columns</p>\n",
       "</div>"
      ],
      "text/plain": [
       "   HeartDiseaseorAttack  HighBP  HighChol  CholCheck   BMI  Smoker  Stroke  \\\n",
       "0                   0.0     1.0       1.0        1.0  40.0     1.0     0.0   \n",
       "1                   0.0     0.0       0.0        0.0  25.0     1.0     0.0   \n",
       "2                   0.0     1.0       1.0        1.0  28.0     0.0     0.0   \n",
       "3                   0.0     1.0       0.0        1.0  27.0     0.0     0.0   \n",
       "4                   0.0     1.0       1.0        1.0  24.0     0.0     0.0   \n",
       "\n",
       "   Diabetes  PhysActivity  Fruits  ...  AnyHealthcare  NoDocbcCost  GenHlth  \\\n",
       "0       0.0           0.0     0.0  ...            1.0          0.0      5.0   \n",
       "1       0.0           1.0     0.0  ...            0.0          1.0      3.0   \n",
       "2       0.0           0.0     1.0  ...            1.0          1.0      5.0   \n",
       "3       0.0           1.0     1.0  ...            1.0          0.0      2.0   \n",
       "4       0.0           1.0     1.0  ...            1.0          0.0      2.0   \n",
       "\n",
       "   MentHlth  PhysHlth  DiffWalk  Sex   Age  Education  Income  \n",
       "0      18.0      15.0       1.0  0.0   9.0        4.0     3.0  \n",
       "1       0.0       0.0       0.0  0.0   7.0        6.0     1.0  \n",
       "2      30.0      30.0       1.0  0.0   9.0        4.0     8.0  \n",
       "3       0.0       0.0       0.0  0.0  11.0        3.0     6.0  \n",
       "4       3.0       0.0       0.0  0.0  11.0        5.0     4.0  \n",
       "\n",
       "[5 rows x 22 columns]"
      ]
     },
     "execution_count": 4,
     "metadata": {},
     "output_type": "execute_result"
    }
   ],
   "source": [
    "df.head()"
   ]
  },
  {
   "cell_type": "markdown",
   "id": "f9385dda",
   "metadata": {},
   "source": [
    "**We need to transform our features with float64 dtype to bool(for better oversampling later)**"
   ]
  },
  {
   "cell_type": "code",
   "execution_count": 5,
   "id": "9916b709",
   "metadata": {},
   "outputs": [],
   "source": [
    "df.loc[:, ~df.columns.isin(['BMI', 'GenHlth', 'MentHlth', 'PhysHlth', 'Age', 'Education', 'Income'])] = df.loc[:, ~df.columns.isin(['BMI', 'GenHlth', 'MentHlth', 'PhysHlth', 'Age', 'Education', 'Income'])].astype('bool')"
   ]
  },
  {
   "cell_type": "code",
   "execution_count": 7,
   "id": "54230065",
   "metadata": {},
   "outputs": [],
   "source": [
    "df = df.drop_duplicates()"
   ]
  },
  {
   "cell_type": "code",
   "execution_count": 8,
   "id": "dc3da771",
   "metadata": {},
   "outputs": [
    {
     "data": {
      "text/html": [
       "<div>\n",
       "<style scoped>\n",
       "    .dataframe tbody tr th:only-of-type {\n",
       "        vertical-align: middle;\n",
       "    }\n",
       "\n",
       "    .dataframe tbody tr th {\n",
       "        vertical-align: top;\n",
       "    }\n",
       "\n",
       "    .dataframe thead th {\n",
       "        text-align: right;\n",
       "    }\n",
       "</style>\n",
       "<table border=\"1\" class=\"dataframe\">\n",
       "  <thead>\n",
       "    <tr style=\"text-align: right;\">\n",
       "      <th></th>\n",
       "      <th>BMI</th>\n",
       "      <th>GenHlth</th>\n",
       "      <th>MentHlth</th>\n",
       "      <th>PhysHlth</th>\n",
       "      <th>Age</th>\n",
       "      <th>Education</th>\n",
       "      <th>Income</th>\n",
       "    </tr>\n",
       "  </thead>\n",
       "  <tbody>\n",
       "    <tr>\n",
       "      <th>count</th>\n",
       "      <td>229712.000000</td>\n",
       "      <td>229712.000000</td>\n",
       "      <td>229712.000000</td>\n",
       "      <td>229712.000000</td>\n",
       "      <td>229712.000000</td>\n",
       "      <td>229712.000000</td>\n",
       "      <td>229712.000000</td>\n",
       "    </tr>\n",
       "    <tr>\n",
       "      <th>mean</th>\n",
       "      <td>28.685711</td>\n",
       "      <td>2.601205</td>\n",
       "      <td>3.506425</td>\n",
       "      <td>4.676425</td>\n",
       "      <td>8.085982</td>\n",
       "      <td>4.980388</td>\n",
       "      <td>5.889980</td>\n",
       "    </tr>\n",
       "    <tr>\n",
       "      <th>std</th>\n",
       "      <td>6.787118</td>\n",
       "      <td>1.064778</td>\n",
       "      <td>7.714644</td>\n",
       "      <td>9.047423</td>\n",
       "      <td>3.093975</td>\n",
       "      <td>0.992922</td>\n",
       "      <td>2.092546</td>\n",
       "    </tr>\n",
       "    <tr>\n",
       "      <th>min</th>\n",
       "      <td>12.000000</td>\n",
       "      <td>1.000000</td>\n",
       "      <td>0.000000</td>\n",
       "      <td>0.000000</td>\n",
       "      <td>1.000000</td>\n",
       "      <td>1.000000</td>\n",
       "      <td>1.000000</td>\n",
       "    </tr>\n",
       "    <tr>\n",
       "      <th>25%</th>\n",
       "      <td>24.000000</td>\n",
       "      <td>2.000000</td>\n",
       "      <td>0.000000</td>\n",
       "      <td>0.000000</td>\n",
       "      <td>6.000000</td>\n",
       "      <td>4.000000</td>\n",
       "      <td>5.000000</td>\n",
       "    </tr>\n",
       "    <tr>\n",
       "      <th>50%</th>\n",
       "      <td>27.000000</td>\n",
       "      <td>3.000000</td>\n",
       "      <td>0.000000</td>\n",
       "      <td>0.000000</td>\n",
       "      <td>8.000000</td>\n",
       "      <td>5.000000</td>\n",
       "      <td>6.000000</td>\n",
       "    </tr>\n",
       "    <tr>\n",
       "      <th>75%</th>\n",
       "      <td>32.000000</td>\n",
       "      <td>3.000000</td>\n",
       "      <td>2.000000</td>\n",
       "      <td>4.000000</td>\n",
       "      <td>10.000000</td>\n",
       "      <td>6.000000</td>\n",
       "      <td>8.000000</td>\n",
       "    </tr>\n",
       "    <tr>\n",
       "      <th>max</th>\n",
       "      <td>98.000000</td>\n",
       "      <td>5.000000</td>\n",
       "      <td>30.000000</td>\n",
       "      <td>30.000000</td>\n",
       "      <td>13.000000</td>\n",
       "      <td>6.000000</td>\n",
       "      <td>8.000000</td>\n",
       "    </tr>\n",
       "  </tbody>\n",
       "</table>\n",
       "</div>"
      ],
      "text/plain": [
       "                 BMI        GenHlth       MentHlth       PhysHlth  \\\n",
       "count  229712.000000  229712.000000  229712.000000  229712.000000   \n",
       "mean       28.685711       2.601205       3.506425       4.676425   \n",
       "std         6.787118       1.064778       7.714644       9.047423   \n",
       "min        12.000000       1.000000       0.000000       0.000000   \n",
       "25%        24.000000       2.000000       0.000000       0.000000   \n",
       "50%        27.000000       3.000000       0.000000       0.000000   \n",
       "75%        32.000000       3.000000       2.000000       4.000000   \n",
       "max        98.000000       5.000000      30.000000      30.000000   \n",
       "\n",
       "                 Age      Education         Income  \n",
       "count  229712.000000  229712.000000  229712.000000  \n",
       "mean        8.085982       4.980388       5.889980  \n",
       "std         3.093975       0.992922       2.092546  \n",
       "min         1.000000       1.000000       1.000000  \n",
       "25%         6.000000       4.000000       5.000000  \n",
       "50%         8.000000       5.000000       6.000000  \n",
       "75%        10.000000       6.000000       8.000000  \n",
       "max        13.000000       6.000000       8.000000  "
      ]
     },
     "execution_count": 8,
     "metadata": {},
     "output_type": "execute_result"
    }
   ],
   "source": [
    "df.describe()"
   ]
  },
  {
   "cell_type": "code",
   "execution_count": 10,
   "id": "5630578d",
   "metadata": {},
   "outputs": [],
   "source": [
    "stan_dat = StandardScaler().fit_transform(df[['BMI', 'GenHlth', 'MentHlth', 'PhysHlth', 'Age', 'Education', 'Income']])"
   ]
  },
  {
   "cell_type": "code",
   "execution_count": 11,
   "id": "a3c7e086",
   "metadata": {},
   "outputs": [
    {
     "data": {
      "text/html": [
       "<div>\n",
       "<style scoped>\n",
       "    .dataframe tbody tr th:only-of-type {\n",
       "        vertical-align: middle;\n",
       "    }\n",
       "\n",
       "    .dataframe tbody tr th {\n",
       "        vertical-align: top;\n",
       "    }\n",
       "\n",
       "    .dataframe thead th {\n",
       "        text-align: right;\n",
       "    }\n",
       "</style>\n",
       "<table border=\"1\" class=\"dataframe\">\n",
       "  <thead>\n",
       "    <tr style=\"text-align: right;\">\n",
       "      <th></th>\n",
       "      <th>HeartDiseaseorAttack</th>\n",
       "      <th>HighBP</th>\n",
       "      <th>HighChol</th>\n",
       "      <th>CholCheck</th>\n",
       "      <th>BMI</th>\n",
       "      <th>Smoker</th>\n",
       "      <th>Stroke</th>\n",
       "      <th>Diabetes</th>\n",
       "      <th>PhysActivity</th>\n",
       "      <th>Fruits</th>\n",
       "      <th>...</th>\n",
       "      <th>AnyHealthcare</th>\n",
       "      <th>NoDocbcCost</th>\n",
       "      <th>GenHlth</th>\n",
       "      <th>MentHlth</th>\n",
       "      <th>PhysHlth</th>\n",
       "      <th>DiffWalk</th>\n",
       "      <th>Sex</th>\n",
       "      <th>Age</th>\n",
       "      <th>Education</th>\n",
       "      <th>Income</th>\n",
       "    </tr>\n",
       "  </thead>\n",
       "  <tbody>\n",
       "    <tr>\n",
       "      <th>0</th>\n",
       "      <td>False</td>\n",
       "      <td>True</td>\n",
       "      <td>True</td>\n",
       "      <td>True</td>\n",
       "      <td>40.0</td>\n",
       "      <td>True</td>\n",
       "      <td>False</td>\n",
       "      <td>False</td>\n",
       "      <td>False</td>\n",
       "      <td>False</td>\n",
       "      <td>...</td>\n",
       "      <td>True</td>\n",
       "      <td>False</td>\n",
       "      <td>5.0</td>\n",
       "      <td>18.0</td>\n",
       "      <td>15.0</td>\n",
       "      <td>True</td>\n",
       "      <td>False</td>\n",
       "      <td>9.0</td>\n",
       "      <td>4.0</td>\n",
       "      <td>3.0</td>\n",
       "    </tr>\n",
       "    <tr>\n",
       "      <th>1</th>\n",
       "      <td>False</td>\n",
       "      <td>False</td>\n",
       "      <td>False</td>\n",
       "      <td>False</td>\n",
       "      <td>25.0</td>\n",
       "      <td>True</td>\n",
       "      <td>False</td>\n",
       "      <td>False</td>\n",
       "      <td>True</td>\n",
       "      <td>False</td>\n",
       "      <td>...</td>\n",
       "      <td>False</td>\n",
       "      <td>True</td>\n",
       "      <td>3.0</td>\n",
       "      <td>0.0</td>\n",
       "      <td>0.0</td>\n",
       "      <td>False</td>\n",
       "      <td>False</td>\n",
       "      <td>7.0</td>\n",
       "      <td>6.0</td>\n",
       "      <td>1.0</td>\n",
       "    </tr>\n",
       "    <tr>\n",
       "      <th>2</th>\n",
       "      <td>False</td>\n",
       "      <td>True</td>\n",
       "      <td>True</td>\n",
       "      <td>True</td>\n",
       "      <td>28.0</td>\n",
       "      <td>False</td>\n",
       "      <td>False</td>\n",
       "      <td>False</td>\n",
       "      <td>False</td>\n",
       "      <td>True</td>\n",
       "      <td>...</td>\n",
       "      <td>True</td>\n",
       "      <td>True</td>\n",
       "      <td>5.0</td>\n",
       "      <td>30.0</td>\n",
       "      <td>30.0</td>\n",
       "      <td>True</td>\n",
       "      <td>False</td>\n",
       "      <td>9.0</td>\n",
       "      <td>4.0</td>\n",
       "      <td>8.0</td>\n",
       "    </tr>\n",
       "    <tr>\n",
       "      <th>3</th>\n",
       "      <td>False</td>\n",
       "      <td>True</td>\n",
       "      <td>False</td>\n",
       "      <td>True</td>\n",
       "      <td>27.0</td>\n",
       "      <td>False</td>\n",
       "      <td>False</td>\n",
       "      <td>False</td>\n",
       "      <td>True</td>\n",
       "      <td>True</td>\n",
       "      <td>...</td>\n",
       "      <td>True</td>\n",
       "      <td>False</td>\n",
       "      <td>2.0</td>\n",
       "      <td>0.0</td>\n",
       "      <td>0.0</td>\n",
       "      <td>False</td>\n",
       "      <td>False</td>\n",
       "      <td>11.0</td>\n",
       "      <td>3.0</td>\n",
       "      <td>6.0</td>\n",
       "    </tr>\n",
       "    <tr>\n",
       "      <th>4</th>\n",
       "      <td>False</td>\n",
       "      <td>True</td>\n",
       "      <td>True</td>\n",
       "      <td>True</td>\n",
       "      <td>24.0</td>\n",
       "      <td>False</td>\n",
       "      <td>False</td>\n",
       "      <td>False</td>\n",
       "      <td>True</td>\n",
       "      <td>True</td>\n",
       "      <td>...</td>\n",
       "      <td>True</td>\n",
       "      <td>False</td>\n",
       "      <td>2.0</td>\n",
       "      <td>3.0</td>\n",
       "      <td>0.0</td>\n",
       "      <td>False</td>\n",
       "      <td>False</td>\n",
       "      <td>11.0</td>\n",
       "      <td>5.0</td>\n",
       "      <td>4.0</td>\n",
       "    </tr>\n",
       "    <tr>\n",
       "      <th>5</th>\n",
       "      <td>False</td>\n",
       "      <td>True</td>\n",
       "      <td>True</td>\n",
       "      <td>True</td>\n",
       "      <td>25.0</td>\n",
       "      <td>True</td>\n",
       "      <td>False</td>\n",
       "      <td>False</td>\n",
       "      <td>True</td>\n",
       "      <td>True</td>\n",
       "      <td>...</td>\n",
       "      <td>True</td>\n",
       "      <td>False</td>\n",
       "      <td>2.0</td>\n",
       "      <td>0.0</td>\n",
       "      <td>2.0</td>\n",
       "      <td>False</td>\n",
       "      <td>True</td>\n",
       "      <td>10.0</td>\n",
       "      <td>6.0</td>\n",
       "      <td>8.0</td>\n",
       "    </tr>\n",
       "    <tr>\n",
       "      <th>6</th>\n",
       "      <td>False</td>\n",
       "      <td>True</td>\n",
       "      <td>False</td>\n",
       "      <td>True</td>\n",
       "      <td>30.0</td>\n",
       "      <td>True</td>\n",
       "      <td>False</td>\n",
       "      <td>False</td>\n",
       "      <td>False</td>\n",
       "      <td>False</td>\n",
       "      <td>...</td>\n",
       "      <td>True</td>\n",
       "      <td>False</td>\n",
       "      <td>3.0</td>\n",
       "      <td>0.0</td>\n",
       "      <td>14.0</td>\n",
       "      <td>False</td>\n",
       "      <td>False</td>\n",
       "      <td>9.0</td>\n",
       "      <td>6.0</td>\n",
       "      <td>7.0</td>\n",
       "    </tr>\n",
       "    <tr>\n",
       "      <th>7</th>\n",
       "      <td>False</td>\n",
       "      <td>True</td>\n",
       "      <td>True</td>\n",
       "      <td>True</td>\n",
       "      <td>25.0</td>\n",
       "      <td>True</td>\n",
       "      <td>False</td>\n",
       "      <td>False</td>\n",
       "      <td>True</td>\n",
       "      <td>False</td>\n",
       "      <td>...</td>\n",
       "      <td>True</td>\n",
       "      <td>False</td>\n",
       "      <td>3.0</td>\n",
       "      <td>0.0</td>\n",
       "      <td>0.0</td>\n",
       "      <td>True</td>\n",
       "      <td>False</td>\n",
       "      <td>11.0</td>\n",
       "      <td>4.0</td>\n",
       "      <td>4.0</td>\n",
       "    </tr>\n",
       "    <tr>\n",
       "      <th>8</th>\n",
       "      <td>True</td>\n",
       "      <td>True</td>\n",
       "      <td>True</td>\n",
       "      <td>True</td>\n",
       "      <td>30.0</td>\n",
       "      <td>True</td>\n",
       "      <td>False</td>\n",
       "      <td>True</td>\n",
       "      <td>False</td>\n",
       "      <td>True</td>\n",
       "      <td>...</td>\n",
       "      <td>True</td>\n",
       "      <td>False</td>\n",
       "      <td>5.0</td>\n",
       "      <td>30.0</td>\n",
       "      <td>30.0</td>\n",
       "      <td>True</td>\n",
       "      <td>False</td>\n",
       "      <td>9.0</td>\n",
       "      <td>5.0</td>\n",
       "      <td>1.0</td>\n",
       "    </tr>\n",
       "    <tr>\n",
       "      <th>9</th>\n",
       "      <td>False</td>\n",
       "      <td>False</td>\n",
       "      <td>False</td>\n",
       "      <td>True</td>\n",
       "      <td>24.0</td>\n",
       "      <td>False</td>\n",
       "      <td>False</td>\n",
       "      <td>False</td>\n",
       "      <td>False</td>\n",
       "      <td>False</td>\n",
       "      <td>...</td>\n",
       "      <td>True</td>\n",
       "      <td>False</td>\n",
       "      <td>2.0</td>\n",
       "      <td>0.0</td>\n",
       "      <td>0.0</td>\n",
       "      <td>False</td>\n",
       "      <td>True</td>\n",
       "      <td>8.0</td>\n",
       "      <td>4.0</td>\n",
       "      <td>3.0</td>\n",
       "    </tr>\n",
       "  </tbody>\n",
       "</table>\n",
       "<p>10 rows × 22 columns</p>\n",
       "</div>"
      ],
      "text/plain": [
       "   HeartDiseaseorAttack  HighBP  HighChol  CholCheck   BMI  Smoker  Stroke  \\\n",
       "0                 False    True      True       True  40.0    True   False   \n",
       "1                 False   False     False      False  25.0    True   False   \n",
       "2                 False    True      True       True  28.0   False   False   \n",
       "3                 False    True     False       True  27.0   False   False   \n",
       "4                 False    True      True       True  24.0   False   False   \n",
       "5                 False    True      True       True  25.0    True   False   \n",
       "6                 False    True     False       True  30.0    True   False   \n",
       "7                 False    True      True       True  25.0    True   False   \n",
       "8                  True    True      True       True  30.0    True   False   \n",
       "9                 False   False     False       True  24.0   False   False   \n",
       "\n",
       "   Diabetes  PhysActivity  Fruits  ...  AnyHealthcare  NoDocbcCost  GenHlth  \\\n",
       "0     False         False   False  ...           True        False      5.0   \n",
       "1     False          True   False  ...          False         True      3.0   \n",
       "2     False         False    True  ...           True         True      5.0   \n",
       "3     False          True    True  ...           True        False      2.0   \n",
       "4     False          True    True  ...           True        False      2.0   \n",
       "5     False          True    True  ...           True        False      2.0   \n",
       "6     False         False   False  ...           True        False      3.0   \n",
       "7     False          True   False  ...           True        False      3.0   \n",
       "8      True         False    True  ...           True        False      5.0   \n",
       "9     False         False   False  ...           True        False      2.0   \n",
       "\n",
       "   MentHlth  PhysHlth  DiffWalk    Sex   Age  Education  Income  \n",
       "0      18.0      15.0      True  False   9.0        4.0     3.0  \n",
       "1       0.0       0.0     False  False   7.0        6.0     1.0  \n",
       "2      30.0      30.0      True  False   9.0        4.0     8.0  \n",
       "3       0.0       0.0     False  False  11.0        3.0     6.0  \n",
       "4       3.0       0.0     False  False  11.0        5.0     4.0  \n",
       "5       0.0       2.0     False   True  10.0        6.0     8.0  \n",
       "6       0.0      14.0     False  False   9.0        6.0     7.0  \n",
       "7       0.0       0.0      True  False  11.0        4.0     4.0  \n",
       "8      30.0      30.0      True  False   9.0        5.0     1.0  \n",
       "9       0.0       0.0     False   True   8.0        4.0     3.0  \n",
       "\n",
       "[10 rows x 22 columns]"
      ]
     },
     "execution_count": 11,
     "metadata": {},
     "output_type": "execute_result"
    }
   ],
   "source": [
    "df.head(10)"
   ]
  },
  {
   "cell_type": "code",
   "execution_count": 12,
   "id": "56e8e709",
   "metadata": {},
   "outputs": [
    {
     "data": {
      "text/plain": [
       "<AxesSubplot:>"
      ]
     },
     "execution_count": 12,
     "metadata": {},
     "output_type": "execute_result"
    },
    {
     "data": {
      "image/png": "[encoded data removed]",
      "text/plain": [
       "<Figure size 432x288 with 1 Axes>"
      ]
     },
     "metadata": {
      "needs_background": "light"
     },
     "output_type": "display_data"
    }
   ],
   "source": [
    "sns.boxplot(data=stan_dat)"
   ]
  },
  {
   "cell_type": "markdown",
   "id": "71328013",
   "metadata": {},
   "source": [
    "Outliers in `BMI`, `GenHlth`, `MentHlth`, `PhysHlth`"
   ]
  },
  {
   "cell_type": "code",
   "execution_count": 13,
   "id": "a0a6aa9d",
   "metadata": {},
   "outputs": [
    {
     "data": {
      "image/png": "[encoded data removed]",
      "text/plain": [
       "<Figure size 360x360 with 1 Axes>"
      ]
     },
     "metadata": {
      "needs_background": "light"
     },
     "output_type": "display_data"
    },
    {
     "data": {
      "image/png": "[encoded data removed]",
      "text/plain": [
       "<Figure size 360x360 with 1 Axes>"
      ]
     },
     "metadata": {
      "needs_background": "light"
     },
     "output_type": "display_data"
    },
    {
     "data": {
      "image/png": "[encoded data removed]",
      "text/plain": [
       "<Figure size 360x360 with 1 Axes>"
      ]
     },
     "metadata": {
      "needs_background": "light"
     },
     "output_type": "display_data"
    },
    {
     "data": {
      "image/png": "[encoded data removed]",
      "text/plain": [
       "<Figure size 360x360 with 1 Axes>"
      ]
     },
     "metadata": {
      "needs_background": "light"
     },
     "output_type": "display_data"
    }
   ],
   "source": [
    "for i in ['BMI', 'GenHlth', 'MentHlth', 'PhysHlth']:\n",
    "    sns.displot(df[i])"
   ]
  },
  {
   "cell_type": "code",
   "execution_count": 14,
   "id": "2c4fa8af",
   "metadata": {},
   "outputs": [
    {
     "name": "stdout",
     "output_type": "stream",
     "text": [
      "BMI outliers\n"
     ]
    },
    {
     "data": {
      "text/plain": [
       "5638"
      ]
     },
     "execution_count": 14,
     "metadata": {},
     "output_type": "execute_result"
    }
   ],
   "source": [
    "print('BMI outliers')\n",
    "df[df['BMI']>df['BMI'].quantile(0.75)+1.5*(df['BMI'].quantile(0.75)-df['BMI'].quantile(0.25))].count()['BMI']"
   ]
  },
  {
   "cell_type": "code",
   "execution_count": 15,
   "id": "11d03b92",
   "metadata": {},
   "outputs": [
    {
     "name": "stdout",
     "output_type": "stream",
     "text": [
      "MentHlth outliers\n"
     ]
    },
    {
     "data": {
      "text/plain": [
       "36163"
      ]
     },
     "execution_count": 15,
     "metadata": {},
     "output_type": "execute_result"
    }
   ],
   "source": [
    "print('MentHlth outliers')\n",
    "df[df['MentHlth']>df['MentHlth'].quantile(0.75)+1.5*(df['MentHlth'].quantile(0.75)-df['MentHlth'].quantile(0.25))].count()['BMI']"
   ]
  },
  {
   "cell_type": "code",
   "execution_count": 16,
   "id": "28979dee",
   "metadata": {},
   "outputs": [
    {
     "name": "stdout",
     "output_type": "stream",
     "text": [
      "PhysHlth outliers\n"
     ]
    },
    {
     "data": {
      "text/plain": [
       "34346"
      ]
     },
     "execution_count": 16,
     "metadata": {},
     "output_type": "execute_result"
    }
   ],
   "source": [
    "print('PhysHlth outliers')\n",
    "df[df['PhysHlth']>df['PhysHlth'].quantile(0.75)+1.5*(df['PhysHlth'].quantile(0.75)-df['PhysHlth'].quantile(0.25))].count()['BMI']"
   ]
  },
  {
   "cell_type": "code",
   "execution_count": 17,
   "id": "933c2c1a",
   "metadata": {},
   "outputs": [],
   "source": [
    "df = df.drop(df[df['BMI']>df['BMI'].quantile(0.75)+1.5*(df['BMI'].quantile(0.75)-df['BMI'].quantile(0.25))].index)"
   ]
  },
  {
   "cell_type": "code",
   "execution_count": 19,
   "id": "769224dd",
   "metadata": {},
   "outputs": [
    {
     "name": "stderr",
     "output_type": "stream",
     "text": [
      "c:\\Python\\Python39\\lib\\site-packages\\seaborn\\_decorators.py:36: FutureWarning: Pass the following variable as a keyword arg: x. From version 0.12, the only valid positional argument will be `data`, and passing other arguments without an explicit keyword will result in an error or misinterpretation.\n",
      "  warnings.warn(\n"
     ]
    },
    {
     "data": {
      "text/plain": [
       "<AxesSubplot:xlabel='BMI'>"
      ]
     },
     "execution_count": 19,
     "metadata": {},
     "output_type": "execute_result"
    },
    {
     "data": {
      "image/png": "[encoded data removed]",
      "text/plain": [
       "<Figure size 432x288 with 1 Axes>"
      ]
     },
     "metadata": {
      "needs_background": "light"
     },
     "output_type": "display_data"
    }
   ],
   "source": [
    "sns.boxplot(df['BMI'])"
   ]
  },
  {
   "cell_type": "markdown",
   "id": "1c533a0b",
   "metadata": {},
   "source": [
    "### Correlation matrix"
   ]
  },
  {
   "cell_type": "code",
   "execution_count": 20,
   "id": "9393f972",
   "metadata": {
    "scrolled": true
   },
   "outputs": [
    {
     "data": {
      "text/html": [
       "<style  type=\"text/css\" >\n",
       "#T_f8049_row0_col0,#T_f8049_row1_col1,#T_f8049_row2_col2,#T_f8049_row3_col3,#T_f8049_row4_col4,#T_f8049_row5_col5,#T_f8049_row6_col6,#T_f8049_row7_col7,#T_f8049_row8_col8,#T_f8049_row9_col9,#T_f8049_row10_col10,#T_f8049_row11_col11,#T_f8049_row12_col12,#T_f8049_row13_col13,#T_f8049_row14_col14,#T_f8049_row15_col15,#T_f8049_row16_col16,#T_f8049_row17_col17,#T_f8049_row18_col18,#T_f8049_row19_col19,#T_f8049_row20_col20,#T_f8049_row21_col21{\n",
       "            background-color:  #023858;\n",
       "            color:  #f1f1f1;\n",
       "        }#T_f8049_row0_col1,#T_f8049_row2_col7,#T_f8049_row7_col4,#T_f8049_row11_col21,#T_f8049_row13_col16,#T_f8049_row17_col1,#T_f8049_row17_col19{\n",
       "            background-color:  #c0c9e2;\n",
       "            color:  #000000;\n",
       "        }#T_f8049_row0_col2{\n",
       "            background-color:  #d6d6e9;\n",
       "            color:  #000000;\n",
       "        }#T_f8049_row0_col3,#T_f8049_row2_col18,#T_f8049_row3_col9,#T_f8049_row5_col4,#T_f8049_row9_col0,#T_f8049_row9_col1,#T_f8049_row9_col6,#T_f8049_row9_col7,#T_f8049_row12_col4,#T_f8049_row12_col9,#T_f8049_row12_col10,#T_f8049_row15_col2{\n",
       "            background-color:  #f0eaf4;\n",
       "            color:  #000000;\n",
       "        }#T_f8049_row0_col4,#T_f8049_row3_col2,#T_f8049_row3_col4,#T_f8049_row3_col15,#T_f8049_row4_col0,#T_f8049_row5_col11,#T_f8049_row6_col20,#T_f8049_row8_col13,#T_f8049_row12_col7,#T_f8049_row13_col7,#T_f8049_row13_col8,#T_f8049_row15_col1,#T_f8049_row15_col4,#T_f8049_row15_col12,#T_f8049_row18_col13,#T_f8049_row19_col9{\n",
       "            background-color:  #e7e3f0;\n",
       "            color:  #000000;\n",
       "        }#T_f8049_row0_col5,#T_f8049_row4_col21,#T_f8049_row5_col19,#T_f8049_row6_col7,#T_f8049_row6_col13,#T_f8049_row8_col10,#T_f8049_row12_col8,#T_f8049_row16_col5,#T_f8049_row18_col8,#T_f8049_row18_col20{\n",
       "            background-color:  #d9d8ea;\n",
       "            color:  #000000;\n",
       "        }#T_f8049_row0_col6,#T_f8049_row7_col19,#T_f8049_row9_col21,#T_f8049_row14_col4{\n",
       "            background-color:  #c5cce3;\n",
       "            color:  #000000;\n",
       "        }#T_f8049_row0_col7,#T_f8049_row5_col16,#T_f8049_row19_col16{\n",
       "            background-color:  #c9cee4;\n",
       "            color:  #000000;\n",
       "        }#T_f8049_row0_col8,#T_f8049_row0_col20,#T_f8049_row3_col6,#T_f8049_row5_col8,#T_f8049_row12_col0,#T_f8049_row13_col6,#T_f8049_row13_col20{\n",
       "            background-color:  #ebe6f2;\n",
       "            color:  #000000;\n",
       "        }#T_f8049_row0_col9,#T_f8049_row10_col6,#T_f8049_row11_col0,#T_f8049_row11_col19,#T_f8049_row14_col18{\n",
       "            background-color:  #f4edf6;\n",
       "            color:  #000000;\n",
       "        }#T_f8049_row0_col10,#T_f8049_row2_col9,#T_f8049_row2_col10,#T_f8049_row3_col18,#T_f8049_row7_col9,#T_f8049_row8_col5,#T_f8049_row12_col18,#T_f8049_row13_col2,#T_f8049_row13_col11,#T_f8049_row16_col9,#T_f8049_row17_col20{\n",
       "            background-color:  #f6eff7;\n",
       "            color:  #000000;\n",
       "        }#T_f8049_row0_col11,#T_f8049_row16_col8,#T_f8049_row16_col11,#T_f8049_row17_col10,#T_f8049_row18_col3,#T_f8049_row20_col19{\n",
       "            background-color:  #fbf3f9;\n",
       "            color:  #000000;\n",
       "        }#T_f8049_row0_col12,#T_f8049_row6_col15,#T_f8049_row7_col12,#T_f8049_row7_col13,#T_f8049_row8_col12,#T_f8049_row9_col17,#T_f8049_row11_col5,#T_f8049_row11_col8,#T_f8049_row11_col14,#T_f8049_row18_col5,#T_f8049_row20_col10{\n",
       "            background-color:  #dad9ea;\n",
       "            color:  #000000;\n",
       "        }#T_f8049_row0_col13,#T_f8049_row2_col4,#T_f8049_row2_col21,#T_f8049_row3_col19,#T_f8049_row5_col0,#T_f8049_row9_col12,#T_f8049_row10_col12,#T_f8049_row16_col19,#T_f8049_row21_col18{\n",
       "            background-color:  #dbdaeb;\n",
       "            color:  #000000;\n",
       "        }#T_f8049_row0_col14{\n",
       "            background-color:  #8fb4d6;\n",
       "            color:  #000000;\n",
       "        }#T_f8049_row0_col15,#T_f8049_row6_col12,#T_f8049_row7_col15,#T_f8049_row8_col9,#T_f8049_row17_col12,#T_f8049_row21_col10{\n",
       "            background-color:  #dcdaeb;\n",
       "            color:  #000000;\n",
       "        }#T_f8049_row0_col16,#T_f8049_row1_col2,#T_f8049_row20_col8{\n",
       "            background-color:  #b7c5df;\n",
       "            color:  #000000;\n",
       "        }#T_f8049_row0_col17,#T_f8049_row1_col17{\n",
       "            background-color:  #a2bcda;\n",
       "            color:  #000000;\n",
       "        }#T_f8049_row0_col18,#T_f8049_row5_col7,#T_f8049_row11_col15,#T_f8049_row12_col1,#T_f8049_row14_col12,#T_f8049_row18_col12{\n",
       "            background-color:  #e3e0ee;\n",
       "            color:  #000000;\n",
       "        }#T_f8049_row0_col19,#T_f8049_row4_col7{\n",
       "            background-color:  #bbc7e0;\n",
       "            color:  #000000;\n",
       "        }#T_f8049_row0_col21,#T_f8049_row3_col0,#T_f8049_row5_col6,#T_f8049_row10_col16,#T_f8049_row13_col5,#T_f8049_row15_col0,#T_f8049_row18_col7,#T_f8049_row19_col21{\n",
       "            background-color:  #e6e2ef;\n",
       "            color:  #000000;\n",
       "        }#T_f8049_row1_col0,#T_f8049_row6_col0,#T_f8049_row9_col8,#T_f8049_row12_col20{\n",
       "            background-color:  #c4cbe3;\n",
       "            color:  #000000;\n",
       "        }#T_f8049_row1_col3,#T_f8049_row2_col20,#T_f8049_row6_col21,#T_f8049_row9_col13,#T_f8049_row15_col6,#T_f8049_row18_col16,#T_f8049_row20_col9{\n",
       "            background-color:  #e5e1ef;\n",
       "            color:  #000000;\n",
       "        }#T_f8049_row1_col4,#T_f8049_row3_col14,#T_f8049_row10_col8,#T_f8049_row16_col13,#T_f8049_row17_col7{\n",
       "            background-color:  #c1cae2;\n",
       "            color:  #000000;\n",
       "        }#T_f8049_row1_col5,#T_f8049_row1_col13,#T_f8049_row2_col5,#T_f8049_row2_col6,#T_f8049_row2_col13,#T_f8049_row3_col8,#T_f8049_row5_col1,#T_f8049_row11_col13,#T_f8049_row16_col12,#T_f8049_row17_col2{\n",
       "            background-color:  #dfddec;\n",
       "            color:  #000000;\n",
       "        }#T_f8049_row1_col6,#T_f8049_row3_col1,#T_f8049_row4_col13,#T_f8049_row5_col13,#T_f8049_row5_col15,#T_f8049_row17_col5,#T_f8049_row19_col5{\n",
       "            background-color:  #d8d7e9;\n",
       "            color:  #000000;\n",
       "        }#T_f8049_row1_col7,#T_f8049_row2_col19,#T_f8049_row5_col14{\n",
       "            background-color:  #afc1dd;\n",
       "            color:  #000000;\n",
       "        }#T_f8049_row1_col8,#T_f8049_row1_col20,#T_f8049_row10_col5,#T_f8049_row11_col1,#T_f8049_row12_col2,#T_f8049_row12_col5,#T_f8049_row13_col21,#T_f8049_row15_col8,#T_f8049_row18_col6{\n",
       "            background-color:  #efe9f3;\n",
       "            color:  #000000;\n",
       "        }#T_f8049_row1_col9,#T_f8049_row9_col3,#T_f8049_row11_col7,#T_f8049_row13_col10,#T_f8049_row16_col21,#T_f8049_row18_col11,#T_f8049_row19_col15{\n",
       "            background-color:  #f5eef6;\n",
       "            color:  #000000;\n",
       "        }#T_f8049_row1_col10,#T_f8049_row1_col11,#T_f8049_row2_col11,#T_f8049_row4_col10,#T_f8049_row5_col3,#T_f8049_row7_col10,#T_f8049_row8_col0,#T_f8049_row8_col3,#T_f8049_row8_col17,#T_f8049_row9_col4,#T_f8049_row11_col4,#T_f8049_row15_col3,#T_f8049_row15_col10,#T_f8049_row16_col10,#T_f8049_row16_col18,#T_f8049_row20_col6{\n",
       "            background-color:  #f8f1f8;\n",
       "            color:  #000000;\n",
       "        }#T_f8049_row1_col12,#T_f8049_row2_col12,#T_f8049_row6_col1,#T_f8049_row6_col19,#T_f8049_row11_col20,#T_f8049_row12_col14,#T_f8049_row16_col6{\n",
       "            background-color:  #d5d5e8;\n",
       "            color:  #000000;\n",
       "        }#T_f8049_row1_col14{\n",
       "            background-color:  #89b1d4;\n",
       "            color:  #000000;\n",
       "        }#T_f8049_row1_col15,#T_f8049_row4_col12{\n",
       "            background-color:  #e0dded;\n",
       "            color:  #000000;\n",
       "        }#T_f8049_row1_col16,#T_f8049_row6_col16,#T_f8049_row10_col20,#T_f8049_row13_col15,#T_f8049_row14_col13,#T_f8049_row19_col12,#T_f8049_row21_col12{\n",
       "            background-color:  #bfc9e1;\n",
       "            color:  #000000;\n",
       "        }#T_f8049_row1_col18,#T_f8049_row5_col2,#T_f8049_row13_col0,#T_f8049_row21_col9,#T_f8049_row21_col11{\n",
       "            background-color:  #ece7f2;\n",
       "            color:  #000000;\n",
       "        }#T_f8049_row1_col19{\n",
       "            background-color:  #94b6d7;\n",
       "            color:  #000000;\n",
       "        }#T_f8049_row1_col21,#T_f8049_row2_col3,#T_f8049_row4_col18,#T_f8049_row6_col2,#T_f8049_row19_col3{\n",
       "            background-color:  #e8e4f0;\n",
       "            color:  #000000;\n",
       "        }#T_f8049_row2_col0,#T_f8049_row17_col13{\n",
       "            background-color:  #cacee5;\n",
       "            color:  #000000;\n",
       "        }#T_f8049_row2_col1,#T_f8049_row8_col21{\n",
       "            background-color:  #a8bedc;\n",
       "            color:  #000000;\n",
       "        }#T_f8049_row2_col8,#T_f8049_row3_col13,#T_f8049_row6_col8,#T_f8049_row7_col21,#T_f8049_row13_col4,#T_f8049_row15_col20{\n",
       "            background-color:  #e9e5f1;\n",
       "            color:  #000000;\n",
       "        }#T_f8049_row2_col14,#T_f8049_row14_col15,#T_f8049_row15_col17,#T_f8049_row19_col17{\n",
       "            background-color:  #a1bbda;\n",
       "            color:  #000000;\n",
       "        }#T_f8049_row2_col15,#T_f8049_row4_col15,#T_f8049_row7_col6,#T_f8049_row9_col14,#T_f8049_row12_col16{\n",
       "            background-color:  #dddbec;\n",
       "            color:  #000000;\n",
       "        }#T_f8049_row2_col16,#T_f8049_row3_col12{\n",
       "            background-color:  #c6cce3;\n",
       "            color:  #000000;\n",
       "        }#T_f8049_row2_col17,#T_f8049_row14_col0,#T_f8049_row15_col13,#T_f8049_row17_col15{\n",
       "            background-color:  #b5c4df;\n",
       "            color:  #000000;\n",
       "        }#T_f8049_row3_col5,#T_f8049_row4_col6,#T_f8049_row6_col4,#T_f8049_row7_col18,#T_f8049_row12_col6,#T_f8049_row12_col15,#T_f8049_row19_col8,#T_f8049_row20_col13{\n",
       "            background-color:  #eee8f3;\n",
       "            color:  #000000;\n",
       "        }#T_f8049_row3_col7,#T_f8049_row3_col20,#T_f8049_row11_col17,#T_f8049_row15_col5,#T_f8049_row18_col0{\n",
       "            background-color:  #dedcec;\n",
       "            color:  #000000;\n",
       "        }#T_f8049_row3_col10,#T_f8049_row5_col20,#T_f8049_row6_col18,#T_f8049_row10_col0,#T_f8049_row10_col1,#T_f8049_row10_col7,#T_f8049_row10_col11,#T_f8049_row11_col6,#T_f8049_row11_col18,#T_f8049_row16_col3,#T_f8049_row18_col15,#T_f8049_row18_col19,#T_f8049_row20_col15,#T_f8049_row20_col16{\n",
       "            background-color:  #f2ecf5;\n",
       "            color:  #000000;\n",
       "        }#T_f8049_row3_col11,#T_f8049_row6_col11,#T_f8049_row8_col7,#T_f8049_row11_col2,#T_f8049_row13_col18,#T_f8049_row20_col3{\n",
       "            background-color:  #f9f2f8;\n",
       "            color:  #000000;\n",
       "        }#T_f8049_row3_col16,#T_f8049_row19_col6{\n",
       "            background-color:  #d7d6e9;\n",
       "            color:  #000000;\n",
       "        }#T_f8049_row3_col17,#T_f8049_row9_col20{\n",
       "            background-color:  #cccfe5;\n",
       "            color:  #000000;\n",
       "        }#T_f8049_row3_col21,#T_f8049_row7_col2,#T_f8049_row14_col19{\n",
       "            background-color:  #d1d2e6;\n",
       "            color:  #000000;\n",
       "        }#T_f8049_row4_col1,#T_f8049_row9_col10,#T_f8049_row10_col9,#T_f8049_row13_col17,#T_f8049_row19_col2{\n",
       "            background-color:  #bdc8e1;\n",
       "            color:  #000000;\n",
       "        }#T_f8049_row4_col2,#T_f8049_row7_col5,#T_f8049_row11_col16,#T_f8049_row12_col3,#T_f8049_row16_col2,#T_f8049_row18_col1,#T_f8049_row18_col4{\n",
       "            background-color:  #e4e1ef;\n",
       "            color:  #000000;\n",
       "        }#T_f8049_row4_col3,#T_f8049_row16_col20,#T_f8049_row17_col3,#T_f8049_row20_col11,#T_f8049_row20_col17,#T_f8049_row20_col18{\n",
       "            background-color:  #f1ebf4;\n",
       "            color:  #000000;\n",
       "        }#T_f8049_row4_col5,#T_f8049_row10_col15,#T_f8049_row13_col1,#T_f8049_row19_col20{\n",
       "            background-color:  #ede8f3;\n",
       "            color:  #000000;\n",
       "        }#T_f8049_row4_col8,#T_f8049_row4_col19{\n",
       "            background-color:  #f1ebf5;\n",
       "            color:  #000000;\n",
       "        }#T_f8049_row4_col9,#T_f8049_row10_col18,#T_f8049_row17_col18,#T_f8049_row18_col10,#T_f8049_row19_col11,#T_f8049_row20_col1{\n",
       "            background-color:  #fcf4fa;\n",
       "            color:  #000000;\n",
       "        }#T_f8049_row4_col11,#T_f8049_row21_col19{\n",
       "            background-color:  #fef6fb;\n",
       "            color:  #000000;\n",
       "        }#T_f8049_row4_col14{\n",
       "            background-color:  #9ebad9;\n",
       "            color:  #000000;\n",
       "        }#T_f8049_row4_col16{\n",
       "            background-color:  #d0d1e6;\n",
       "            color:  #000000;\n",
       "        }#T_f8049_row4_col17,#T_f8049_row7_col1{\n",
       "            background-color:  #b0c2de;\n",
       "            color:  #000000;\n",
       "        }#T_f8049_row4_col20{\n",
       "            background-color:  #eae6f1;\n",
       "            color:  #000000;\n",
       "        }#T_f8049_row5_col9,#T_f8049_row15_col19,#T_f8049_row17_col21{\n",
       "            background-color:  #fbf4f9;\n",
       "            color:  #000000;\n",
       "        }#T_f8049_row5_col10,#T_f8049_row8_col14{\n",
       "            background-color:  #f4eef6;\n",
       "            color:  #000000;\n",
       "        }#T_f8049_row5_col12,#T_f8049_row5_col21,#T_f8049_row16_col4,#T_f8049_row18_col17{\n",
       "            background-color:  #e1dfed;\n",
       "            color:  #000000;\n",
       "        }#T_f8049_row5_col17,#T_f8049_row7_col16,#T_f8049_row19_col0{\n",
       "            background-color:  #bcc7e1;\n",
       "            color:  #000000;\n",
       "        }#T_f8049_row5_col18,#T_f8049_row6_col5,#T_f8049_row9_col16,#T_f8049_row10_col13,#T_f8049_row15_col7{\n",
       "            background-color:  #e2dfee;\n",
       "            color:  #000000;\n",
       "        }#T_f8049_row6_col3,#T_f8049_row6_col9,#T_f8049_row8_col11,#T_f8049_row15_col11,#T_f8049_row18_col2,#T_f8049_row19_col4,#T_f8049_row19_col10,#T_f8049_row19_col13{\n",
       "            background-color:  #f3edf5;\n",
       "            color:  #000000;\n",
       "        }#T_f8049_row6_col10,#T_f8049_row8_col6,#T_f8049_row10_col3,#T_f8049_row11_col9,#T_f8049_row12_col11,#T_f8049_row13_col9,#T_f8049_row17_col9,#T_f8049_row19_col18,#T_f8049_row21_col3{\n",
       "            background-color:  #f7f0f7;\n",
       "            color:  #000000;\n",
       "        }#T_f8049_row6_col14,#T_f8049_row7_col17{\n",
       "            background-color:  #a5bddb;\n",
       "            color:  #000000;\n",
       "        }#T_f8049_row6_col17,#T_f8049_row12_col21,#T_f8049_row13_col14,#T_f8049_row14_col1{\n",
       "            background-color:  #acc0dd;\n",
       "            color:  #000000;\n",
       "        }#T_f8049_row7_col0,#T_f8049_row14_col6,#T_f8049_row16_col7,#T_f8049_row17_col6{\n",
       "            background-color:  #ced0e6;\n",
       "            color:  #000000;\n",
       "        }#T_f8049_row7_col3{\n",
       "            background-color:  #ede7f2;\n",
       "            color:  #000000;\n",
       "        }#T_f8049_row7_col8,#T_f8049_row7_col20,#T_f8049_row8_col18,#T_f8049_row9_col15,#T_f8049_row10_col19,#T_f8049_row11_col10,#T_f8049_row14_col3,#T_f8049_row15_col21{\n",
       "            background-color:  #eee9f3;\n",
       "            color:  #000000;\n",
       "        }#T_f8049_row7_col11,#T_f8049_row8_col2,#T_f8049_row8_col4,#T_f8049_row9_col18,#T_f8049_row12_col13,#T_f8049_row13_col3,#T_f8049_row13_col12,#T_f8049_row13_col19,#T_f8049_row14_col8,#T_f8049_row14_col10,#T_f8049_row14_col20,#T_f8049_row14_col21,#T_f8049_row17_col8,#T_f8049_row18_col9,#T_f8049_row20_col5,#T_f8049_row21_col0,#T_f8049_row21_col1,#T_f8049_row21_col2,#T_f8049_row21_col6,#T_f8049_row21_col7,#T_f8049_row21_col14,#T_f8049_row21_col15,#T_f8049_row21_col16,#T_f8049_row21_col17{\n",
       "            background-color:  #fff7fb;\n",
       "            color:  #000000;\n",
       "        }#T_f8049_row7_col14,#T_f8049_row15_col14{\n",
       "            background-color:  #86b0d3;\n",
       "            color:  #000000;\n",
       "        }#T_f8049_row8_col1,#T_f8049_row8_col16,#T_f8049_row9_col2,#T_f8049_row9_col11,#T_f8049_row10_col2,#T_f8049_row11_col3,#T_f8049_row20_col4,#T_f8049_row20_col7,#T_f8049_row21_col13{\n",
       "            background-color:  #faf3f9;\n",
       "            color:  #000000;\n",
       "        }#T_f8049_row8_col15,#T_f8049_row9_col5,#T_f8049_row10_col4,#T_f8049_row20_col14,#T_f8049_row21_col4{\n",
       "            background-color:  #f5eff6;\n",
       "            color:  #000000;\n",
       "        }#T_f8049_row8_col19,#T_f8049_row15_col9,#T_f8049_row20_col0,#T_f8049_row21_col5{\n",
       "            background-color:  #faf2f8;\n",
       "            color:  #000000;\n",
       "        }#T_f8049_row8_col20{\n",
       "            background-color:  #b4c4df;\n",
       "            color:  #000000;\n",
       "        }#T_f8049_row9_col19,#T_f8049_row10_col14,#T_f8049_row10_col17,#T_f8049_row11_col12{\n",
       "            background-color:  #e0deed;\n",
       "            color:  #000000;\n",
       "        }#T_f8049_row10_col21,#T_f8049_row18_col21{\n",
       "            background-color:  #b1c2de;\n",
       "            color:  #000000;\n",
       "        }#T_f8049_row12_col17,#T_f8049_row14_col5,#T_f8049_row16_col1{\n",
       "            background-color:  #d2d3e7;\n",
       "            color:  #000000;\n",
       "        }#T_f8049_row12_col19,#T_f8049_row17_col4,#T_f8049_row18_col14{\n",
       "            background-color:  #d2d2e7;\n",
       "            color:  #000000;\n",
       "        }#T_f8049_row14_col2{\n",
       "            background-color:  #d4d4e8;\n",
       "            color:  #000000;\n",
       "        }#T_f8049_row14_col7{\n",
       "            background-color:  #a9bfdc;\n",
       "            color:  #000000;\n",
       "        }#T_f8049_row14_col9,#T_f8049_row17_col11,#T_f8049_row20_col2{\n",
       "            background-color:  #fdf5fa;\n",
       "            color:  #000000;\n",
       "        }#T_f8049_row14_col11,#T_f8049_row15_col18{\n",
       "            background-color:  #fef6fa;\n",
       "            color:  #000000;\n",
       "        }#T_f8049_row14_col16{\n",
       "            background-color:  #4094c3;\n",
       "            color:  #000000;\n",
       "        }#T_f8049_row14_col17,#T_f8049_row17_col16{\n",
       "            background-color:  #549cc7;\n",
       "            color:  #000000;\n",
       "        }#T_f8049_row15_col16{\n",
       "            background-color:  #83afd3;\n",
       "            color:  #000000;\n",
       "        }#T_f8049_row16_col0{\n",
       "            background-color:  #cdd0e5;\n",
       "            color:  #000000;\n",
       "        }#T_f8049_row16_col14{\n",
       "            background-color:  #348ebf;\n",
       "            color:  #000000;\n",
       "        }#T_f8049_row16_col15{\n",
       "            background-color:  #8eb3d5;\n",
       "            color:  #000000;\n",
       "        }#T_f8049_row16_col17{\n",
       "            background-color:  #4a98c5;\n",
       "            color:  #000000;\n",
       "        }#T_f8049_row17_col0,#T_f8049_row19_col7{\n",
       "            background-color:  #c2cbe2;\n",
       "            color:  #000000;\n",
       "        }#T_f8049_row17_col14{\n",
       "            background-color:  #4e9ac6;\n",
       "            color:  #000000;\n",
       "        }#T_f8049_row19_col1{\n",
       "            background-color:  #93b5d6;\n",
       "            color:  #000000;\n",
       "        }#T_f8049_row19_col14{\n",
       "            background-color:  #abbfdc;\n",
       "            color:  #000000;\n",
       "        }#T_f8049_row20_col12{\n",
       "            background-color:  #c8cde4;\n",
       "            color:  #000000;\n",
       "        }#T_f8049_row20_col21{\n",
       "            background-color:  #569dc8;\n",
       "            color:  #000000;\n",
       "        }#T_f8049_row21_col8{\n",
       "            background-color:  #b9c6e0;\n",
       "            color:  #000000;\n",
       "        }#T_f8049_row21_col20{\n",
       "            background-color:  #63a2cb;\n",
       "            color:  #000000;\n",
       "        }</style><table id=\"T_f8049_\" ><thead>    <tr>        <th class=\"blank level0\" ></th>        <th class=\"col_heading level0 col0\" >HeartDiseaseorAttack</th>        <th class=\"col_heading level0 col1\" >HighBP</th>        <th class=\"col_heading level0 col2\" >HighChol</th>        <th class=\"col_heading level0 col3\" >CholCheck</th>        <th class=\"col_heading level0 col4\" >BMI</th>        <th class=\"col_heading level0 col5\" >Smoker</th>        <th class=\"col_heading level0 col6\" >Stroke</th>        <th class=\"col_heading level0 col7\" >Diabetes</th>        <th class=\"col_heading level0 col8\" >PhysActivity</th>        <th class=\"col_heading level0 col9\" >Fruits</th>        <th class=\"col_heading level0 col10\" >Veggies</th>        <th class=\"col_heading level0 col11\" >HvyAlcoholConsump</th>        <th class=\"col_heading level0 col12\" >AnyHealthcare</th>        <th class=\"col_heading level0 col13\" >NoDocbcCost</th>        <th class=\"col_heading level0 col14\" >GenHlth</th>        <th class=\"col_heading level0 col15\" >MentHlth</th>        <th class=\"col_heading level0 col16\" >PhysHlth</th>        <th class=\"col_heading level0 col17\" >DiffWalk</th>        <th class=\"col_heading level0 col18\" >Sex</th>        <th class=\"col_heading level0 col19\" >Age</th>        <th class=\"col_heading level0 col20\" >Education</th>        <th class=\"col_heading level0 col21\" >Income</th>    </tr></thead><tbody>\n",
       "                <tr>\n",
       "                        <th id=\"T_f8049_level0_row0\" class=\"row_heading level0 row0\" >HeartDiseaseorAttack</th>\n",
       "                        <td id=\"T_f8049_row0_col0\" class=\"data row0 col0\" >1.000000</td>\n",
       "                        <td id=\"T_f8049_row0_col1\" class=\"data row0 col1\" >0.202062</td>\n",
       "                        <td id=\"T_f8049_row0_col2\" class=\"data row0 col2\" >0.176358</td>\n",
       "                        <td id=\"T_f8049_row0_col3\" class=\"data row0 col3\" >0.050473</td>\n",
       "                        <td id=\"T_f8049_row0_col4\" class=\"data row0 col4\" >0.046694</td>\n",
       "                        <td id=\"T_f8049_row0_col5\" class=\"data row0 col5\" >0.105949</td>\n",
       "                        <td id=\"T_f8049_row0_col6\" class=\"data row0 col6\" >0.199040</td>\n",
       "                        <td id=\"T_f8049_row0_col7\" class=\"data row0 col7\" >0.166995</td>\n",
       "                        <td id=\"T_f8049_row0_col8\" class=\"data row0 col8\" >-0.072006</td>\n",
       "                        <td id=\"T_f8049_row0_col9\" class=\"data row0 col9\" >-0.006970</td>\n",
       "                        <td id=\"T_f8049_row0_col10\" class=\"data row0 col10\" >-0.027054</td>\n",
       "                        <td id=\"T_f8049_row0_col11\" class=\"data row0 col11\" >-0.035517</td>\n",
       "                        <td id=\"T_f8049_row0_col12\" class=\"data row0 col12\" >0.026623</td>\n",
       "                        <td id=\"T_f8049_row0_col13\" class=\"data row0 col13\" >0.020706</td>\n",
       "                        <td id=\"T_f8049_row0_col14\" class=\"data row0 col14\" >0.246957</td>\n",
       "                        <td id=\"T_f8049_row0_col15\" class=\"data row0 col15\" >0.051141</td>\n",
       "                        <td id=\"T_f8049_row0_col16\" class=\"data row0 col16\" >0.169172</td>\n",
       "                        <td id=\"T_f8049_row0_col17\" class=\"data row0 col17\" >0.203160</td>\n",
       "                        <td id=\"T_f8049_row0_col18\" class=\"data row0 col18\" >0.090911</td>\n",
       "                        <td id=\"T_f8049_row0_col19\" class=\"data row0 col19\" >0.224959</td>\n",
       "                        <td id=\"T_f8049_row0_col20\" class=\"data row0 col20\" >-0.081886</td>\n",
       "                        <td id=\"T_f8049_row0_col21\" class=\"data row0 col21\" >-0.121779</td>\n",
       "            </tr>\n",
       "            <tr>\n",
       "                        <th id=\"T_f8049_level0_row1\" class=\"row_heading level0 row1\" >HighBP</th>\n",
       "                        <td id=\"T_f8049_row1_col0\" class=\"data row1 col0\" >0.202062</td>\n",
       "                        <td id=\"T_f8049_row1_col1\" class=\"data row1 col1\" >1.000000</td>\n",
       "                        <td id=\"T_f8049_row1_col2\" class=\"data row1 col2\" >0.284938</td>\n",
       "                        <td id=\"T_f8049_row1_col3\" class=\"data row1 col3\" >0.110521</td>\n",
       "                        <td id=\"T_f8049_row1_col4\" class=\"data row1 col4\" >0.211508</td>\n",
       "                        <td id=\"T_f8049_row1_col5\" class=\"data row1 col5\" >0.075930</td>\n",
       "                        <td id=\"T_f8049_row1_col6\" class=\"data row1 col6\" >0.125143</td>\n",
       "                        <td id=\"T_f8049_row1_col7\" class=\"data row1 col7\" >0.255445</td>\n",
       "                        <td id=\"T_f8049_row1_col8\" class=\"data row1 col8\" >-0.099548</td>\n",
       "                        <td id=\"T_f8049_row1_col9\" class=\"data row1 col9\" >-0.017561</td>\n",
       "                        <td id=\"T_f8049_row1_col10\" class=\"data row1 col10\" >-0.041865</td>\n",
       "                        <td id=\"T_f8049_row1_col11\" class=\"data row1 col11\" >-0.012563</td>\n",
       "                        <td id=\"T_f8049_row1_col12\" class=\"data row1 col12\" >0.052722</td>\n",
       "                        <td id=\"T_f8049_row1_col13\" class=\"data row1 col13\" >0.000203</td>\n",
       "                        <td id=\"T_f8049_row1_col14\" class=\"data row1 col14\" >0.267843</td>\n",
       "                        <td id=\"T_f8049_row1_col15\" class=\"data row1 col15\" >0.033085</td>\n",
       "                        <td id=\"T_f8049_row1_col16\" class=\"data row1 col16\" >0.138998</td>\n",
       "                        <td id=\"T_f8049_row1_col17\" class=\"data row1 col17\" >0.204609</td>\n",
       "                        <td id=\"T_f8049_row1_col18\" class=\"data row1 col18\" >0.049669</td>\n",
       "                        <td id=\"T_f8049_row1_col19\" class=\"data row1 col19\" >0.344267</td>\n",
       "                        <td id=\"T_f8049_row1_col20\" class=\"data row1 col20\" >-0.111103</td>\n",
       "                        <td id=\"T_f8049_row1_col21\" class=\"data row1 col21\" >-0.136011</td>\n",
       "            </tr>\n",
       "            <tr>\n",
       "                        <th id=\"T_f8049_level0_row2\" class=\"row_heading level0 row2\" >HighChol</th>\n",
       "                        <td id=\"T_f8049_row2_col0\" class=\"data row2 col0\" >0.176358</td>\n",
       "                        <td id=\"T_f8049_row2_col1\" class=\"data row2 col1\" >0.284938</td>\n",
       "                        <td id=\"T_f8049_row2_col2\" class=\"data row2 col2\" >1.000000</td>\n",
       "                        <td id=\"T_f8049_row2_col3\" class=\"data row2 col3\" >0.095202</td>\n",
       "                        <td id=\"T_f8049_row2_col4\" class=\"data row2 col4\" >0.109059</td>\n",
       "                        <td id=\"T_f8049_row2_col5\" class=\"data row2 col5\" >0.074596</td>\n",
       "                        <td id=\"T_f8049_row2_col6\" class=\"data row2 col6\" >0.089436</td>\n",
       "                        <td id=\"T_f8049_row2_col7\" class=\"data row2 col7\" >0.201345</td>\n",
       "                        <td id=\"T_f8049_row2_col8\" class=\"data row2 col8\" >-0.061520</td>\n",
       "                        <td id=\"T_f8049_row2_col9\" class=\"data row2 col9\" >-0.025891</td>\n",
       "                        <td id=\"T_f8049_row2_col10\" class=\"data row2 col10\" >-0.026585</td>\n",
       "                        <td id=\"T_f8049_row2_col11\" class=\"data row2 col11\" >-0.018772</td>\n",
       "                        <td id=\"T_f8049_row2_col12\" class=\"data row2 col12\" >0.053544</td>\n",
       "                        <td id=\"T_f8049_row2_col13\" class=\"data row2 col13\" >0.001828</td>\n",
       "                        <td id=\"T_f8049_row2_col14\" class=\"data row2 col14\" >0.187238</td>\n",
       "                        <td id=\"T_f8049_row2_col15\" class=\"data row2 col15\" >0.048426</td>\n",
       "                        <td id=\"T_f8049_row2_col16\" class=\"data row2 col16\" >0.108584</td>\n",
       "                        <td id=\"T_f8049_row2_col17\" class=\"data row2 col17\" >0.134003</td>\n",
       "                        <td id=\"T_f8049_row2_col18\" class=\"data row2 col18\" >0.023665</td>\n",
       "                        <td id=\"T_f8049_row2_col19\" class=\"data row2 col19\" >0.265441</td>\n",
       "                        <td id=\"T_f8049_row2_col20\" class=\"data row2 col20\" >-0.048749</td>\n",
       "                        <td id=\"T_f8049_row2_col21\" class=\"data row2 col21\" >-0.060012</td>\n",
       "            </tr>\n",
       "            <tr>\n",
       "                        <th id=\"T_f8049_level0_row3\" class=\"row_heading level0 row3\" >CholCheck</th>\n",
       "                        <td id=\"T_f8049_row3_col0\" class=\"data row3 col0\" >0.050473</td>\n",
       "                        <td id=\"T_f8049_row3_col1\" class=\"data row3 col1\" >0.110521</td>\n",
       "                        <td id=\"T_f8049_row3_col2\" class=\"data row3 col2\" >0.095202</td>\n",
       "                        <td id=\"T_f8049_row3_col3\" class=\"data row3 col3\" >1.000000</td>\n",
       "                        <td id=\"T_f8049_row3_col4\" class=\"data row3 col4\" >0.046173</td>\n",
       "                        <td id=\"T_f8049_row3_col5\" class=\"data row3 col5\" >-0.003631</td>\n",
       "                        <td id=\"T_f8049_row3_col6\" class=\"data row3 col6\" >0.028106</td>\n",
       "                        <td id=\"T_f8049_row3_col7\" class=\"data row3 col7\" >0.075064</td>\n",
       "                        <td id=\"T_f8049_row3_col8\" class=\"data row3 col8\" >-0.003634</td>\n",
       "                        <td id=\"T_f8049_row3_col9\" class=\"data row3 col9\" >0.018391</td>\n",
       "                        <td id=\"T_f8049_row3_col10\" class=\"data row3 col10\" >-0.000448</td>\n",
       "                        <td id=\"T_f8049_row3_col11\" class=\"data row3 col11\" >-0.020875</td>\n",
       "                        <td id=\"T_f8049_row3_col12\" class=\"data row3 col12\" >0.115723</td>\n",
       "                        <td id=\"T_f8049_row3_col13\" class=\"data row3 col13\" >-0.054927</td>\n",
       "                        <td id=\"T_f8049_row3_col14\" class=\"data row3 col14\" >0.062693</td>\n",
       "                        <td id=\"T_f8049_row3_col15\" class=\"data row3 col15\" >-0.002655</td>\n",
       "                        <td id=\"T_f8049_row3_col16\" class=\"data row3 col16\" >0.039808</td>\n",
       "                        <td id=\"T_f8049_row3_col17\" class=\"data row3 col17\" >0.047821</td>\n",
       "                        <td id=\"T_f8049_row3_col18\" class=\"data row3 col18\" >-0.023864</td>\n",
       "                        <td id=\"T_f8049_row3_col19\" class=\"data row3 col19\" >0.096836</td>\n",
       "                        <td id=\"T_f8049_row3_col20\" class=\"data row3 col20\" >-0.009656</td>\n",
       "                        <td id=\"T_f8049_row3_col21\" class=\"data row3 col21\" >0.002845</td>\n",
       "            </tr>\n",
       "            <tr>\n",
       "                        <th id=\"T_f8049_level0_row4\" class=\"row_heading level0 row4\" >BMI</th>\n",
       "                        <td id=\"T_f8049_row4_col0\" class=\"data row4 col0\" >0.046694</td>\n",
       "                        <td id=\"T_f8049_row4_col1\" class=\"data row4 col1\" >0.211508</td>\n",
       "                        <td id=\"T_f8049_row4_col2\" class=\"data row4 col2\" >0.109059</td>\n",
       "                        <td id=\"T_f8049_row4_col3\" class=\"data row4 col3\" >0.046173</td>\n",
       "                        <td id=\"T_f8049_row4_col4\" class=\"data row4 col4\" >1.000000</td>\n",
       "                        <td id=\"T_f8049_row4_col5\" class=\"data row4 col5\" >-0.003095</td>\n",
       "                        <td id=\"T_f8049_row4_col6\" class=\"data row4 col6\" >0.011516</td>\n",
       "                        <td id=\"T_f8049_row4_col7\" class=\"data row4 col7\" >0.218020</td>\n",
       "                        <td id=\"T_f8049_row4_col8\" class=\"data row4 col8\" >-0.116223</td>\n",
       "                        <td id=\"T_f8049_row4_col9\" class=\"data row4 col9\" >-0.068118</td>\n",
       "                        <td id=\"T_f8049_row4_col10\" class=\"data row4 col10\" >-0.045232</td>\n",
       "                        <td id=\"T_f8049_row4_col11\" class=\"data row4 col11\" >-0.059706</td>\n",
       "                        <td id=\"T_f8049_row4_col12\" class=\"data row4 col12\" >-0.001742</td>\n",
       "                        <td id=\"T_f8049_row4_col13\" class=\"data row4 col13\" >0.037662</td>\n",
       "                        <td id=\"T_f8049_row4_col14\" class=\"data row4 col14\" >0.199072</td>\n",
       "                        <td id=\"T_f8049_row4_col15\" class=\"data row4 col15\" >0.047741</td>\n",
       "                        <td id=\"T_f8049_row4_col16\" class=\"data row4 col16\" >0.077895</td>\n",
       "                        <td id=\"T_f8049_row4_col17\" class=\"data row4 col17\" >0.154559</td>\n",
       "                        <td id=\"T_f8049_row4_col18\" class=\"data row4 col18\" >0.063967</td>\n",
       "                        <td id=\"T_f8049_row4_col19\" class=\"data row4 col19\" >-0.025932</td>\n",
       "                        <td id=\"T_f8049_row4_col20\" class=\"data row4 col20\" >-0.077573</td>\n",
       "                        <td id=\"T_f8049_row4_col21\" class=\"data row4 col21\" >-0.045892</td>\n",
       "            </tr>\n",
       "            <tr>\n",
       "                        <th id=\"T_f8049_level0_row5\" class=\"row_heading level0 row5\" >Smoker</th>\n",
       "                        <td id=\"T_f8049_row5_col0\" class=\"data row5 col0\" >0.105949</td>\n",
       "                        <td id=\"T_f8049_row5_col1\" class=\"data row5 col1\" >0.075930</td>\n",
       "                        <td id=\"T_f8049_row5_col2\" class=\"data row5 col2\" >0.074596</td>\n",
       "                        <td id=\"T_f8049_row5_col3\" class=\"data row5 col3\" >-0.003631</td>\n",
       "                        <td id=\"T_f8049_row5_col4\" class=\"data row5 col4\" >-0.003095</td>\n",
       "                        <td id=\"T_f8049_row5_col5\" class=\"data row5 col5\" >1.000000</td>\n",
       "                        <td id=\"T_f8049_row5_col6\" class=\"data row5 col6\" >0.054406</td>\n",
       "                        <td id=\"T_f8049_row5_col7\" class=\"data row5 col7\" >0.047329</td>\n",
       "                        <td id=\"T_f8049_row5_col8\" class=\"data row5 col8\" >-0.068430</td>\n",
       "                        <td id=\"T_f8049_row5_col9\" class=\"data row5 col9\" >-0.062586</td>\n",
       "                        <td id=\"T_f8049_row5_col10\" class=\"data row5 col10\" >-0.014807</td>\n",
       "                        <td id=\"T_f8049_row5_col11\" class=\"data row5 col11\" >0.096195</td>\n",
       "                        <td id=\"T_f8049_row5_col12\" class=\"data row5 col12\" >-0.014507</td>\n",
       "                        <td id=\"T_f8049_row5_col13\" class=\"data row5 col13\" >0.038312</td>\n",
       "                        <td id=\"T_f8049_row5_col14\" class=\"data row5 col14\" >0.137209</td>\n",
       "                        <td id=\"T_f8049_row5_col15\" class=\"data row5 col15\" >0.077562</td>\n",
       "                        <td id=\"T_f8049_row5_col16\" class=\"data row5 col16\" >0.101162</td>\n",
       "                        <td id=\"T_f8049_row5_col17\" class=\"data row5 col17\" >0.110112</td>\n",
       "                        <td id=\"T_f8049_row5_col18\" class=\"data row5 col18\" >0.096929</td>\n",
       "                        <td id=\"T_f8049_row5_col19\" class=\"data row5 col19\" >0.108074</td>\n",
       "                        <td id=\"T_f8049_row5_col20\" class=\"data row5 col20\" >-0.136640</td>\n",
       "                        <td id=\"T_f8049_row5_col21\" class=\"data row5 col21\" >-0.096500</td>\n",
       "            </tr>\n",
       "            <tr>\n",
       "                        <th id=\"T_f8049_level0_row6\" class=\"row_heading level0 row6\" >Stroke</th>\n",
       "                        <td id=\"T_f8049_row6_col0\" class=\"data row6 col0\" >0.199040</td>\n",
       "                        <td id=\"T_f8049_row6_col1\" class=\"data row6 col1\" >0.125143</td>\n",
       "                        <td id=\"T_f8049_row6_col2\" class=\"data row6 col2\" >0.089436</td>\n",
       "                        <td id=\"T_f8049_row6_col3\" class=\"data row6 col3\" >0.028106</td>\n",
       "                        <td id=\"T_f8049_row6_col4\" class=\"data row6 col4\" >0.011516</td>\n",
       "                        <td id=\"T_f8049_row6_col5\" class=\"data row6 col5\" >0.054406</td>\n",
       "                        <td id=\"T_f8049_row6_col6\" class=\"data row6 col6\" >1.000000</td>\n",
       "                        <td id=\"T_f8049_row6_col7\" class=\"data row6 col7\" >0.097740</td>\n",
       "                        <td id=\"T_f8049_row6_col8\" class=\"data row6 col8\" >-0.059098</td>\n",
       "                        <td id=\"T_f8049_row6_col9\" class=\"data row6 col9\" >-0.004492</td>\n",
       "                        <td id=\"T_f8049_row6_col10\" class=\"data row6 col10\" >-0.032688</td>\n",
       "                        <td id=\"T_f8049_row6_col11\" class=\"data row6 col11\" >-0.021224</td>\n",
       "                        <td id=\"T_f8049_row6_col12\" class=\"data row6 col12\" >0.013933</td>\n",
       "                        <td id=\"T_f8049_row6_col13\" class=\"data row6 col13\" >0.027963</td>\n",
       "                        <td id=\"T_f8049_row6_col14\" class=\"data row6 col14\" >0.170654</td>\n",
       "                        <td id=\"T_f8049_row6_col15\" class=\"data row6 col15\" >0.061293</td>\n",
       "                        <td id=\"T_f8049_row6_col16\" class=\"data row6 col16\" >0.140447</td>\n",
       "                        <td id=\"T_f8049_row6_col17\" class=\"data row6 col17\" >0.170430</td>\n",
       "                        <td id=\"T_f8049_row6_col18\" class=\"data row6 col18\" >0.004362</td>\n",
       "                        <td id=\"T_f8049_row6_col19\" class=\"data row6 col19\" >0.128525</td>\n",
       "                        <td id=\"T_f8049_row6_col20\" class=\"data row6 col20\" >-0.063906</td>\n",
       "                        <td id=\"T_f8049_row6_col21\" class=\"data row6 col21\" >-0.116654</td>\n",
       "            </tr>\n",
       "            <tr>\n",
       "                        <th id=\"T_f8049_level0_row7\" class=\"row_heading level0 row7\" >Diabetes</th>\n",
       "                        <td id=\"T_f8049_row7_col0\" class=\"data row7 col0\" >0.166995</td>\n",
       "                        <td id=\"T_f8049_row7_col1\" class=\"data row7 col1\" >0.255445</td>\n",
       "                        <td id=\"T_f8049_row7_col2\" class=\"data row7 col2\" >0.201345</td>\n",
       "                        <td id=\"T_f8049_row7_col3\" class=\"data row7 col3\" >0.075064</td>\n",
       "                        <td id=\"T_f8049_row7_col4\" class=\"data row7 col4\" >0.218020</td>\n",
       "                        <td id=\"T_f8049_row7_col5\" class=\"data row7 col5\" >0.047329</td>\n",
       "                        <td id=\"T_f8049_row7_col6\" class=\"data row7 col6\" >0.097740</td>\n",
       "                        <td id=\"T_f8049_row7_col7\" class=\"data row7 col7\" >1.000000</td>\n",
       "                        <td id=\"T_f8049_row7_col8\" class=\"data row7 col8\" >-0.095498</td>\n",
       "                        <td id=\"T_f8049_row7_col9\" class=\"data row7 col9\" >-0.023172</td>\n",
       "                        <td id=\"T_f8049_row7_col10\" class=\"data row7 col10\" >-0.042336</td>\n",
       "                        <td id=\"T_f8049_row7_col11\" class=\"data row7 col11\" >-0.064913</td>\n",
       "                        <td id=\"T_f8049_row7_col12\" class=\"data row7 col12\" >0.024652</td>\n",
       "                        <td id=\"T_f8049_row7_col13\" class=\"data row7 col13\" >0.023382</td>\n",
       "                        <td id=\"T_f8049_row7_col14\" class=\"data row7 col14\" >0.274787</td>\n",
       "                        <td id=\"T_f8049_row7_col15\" class=\"data row7 col15\" >0.052147</td>\n",
       "                        <td id=\"T_f8049_row7_col16\" class=\"data row7 col16\" >0.149647</td>\n",
       "                        <td id=\"T_f8049_row7_col17\" class=\"data row7 col17\" >0.196589</td>\n",
       "                        <td id=\"T_f8049_row7_col18\" class=\"data row7 col18\" >0.035422</td>\n",
       "                        <td id=\"T_f8049_row7_col19\" class=\"data row7 col19\" >0.188899</td>\n",
       "                        <td id=\"T_f8049_row7_col20\" class=\"data row7 col20\" >-0.106288</td>\n",
       "                        <td id=\"T_f8049_row7_col21\" class=\"data row7 col21\" >-0.142154</td>\n",
       "            </tr>\n",
       "            <tr>\n",
       "                        <th id=\"T_f8049_level0_row8\" class=\"row_heading level0 row8\" >PhysActivity</th>\n",
       "                        <td id=\"T_f8049_row8_col0\" class=\"data row8 col0\" >-0.072006</td>\n",
       "                        <td id=\"T_f8049_row8_col1\" class=\"data row8 col1\" >-0.099548</td>\n",
       "                        <td id=\"T_f8049_row8_col2\" class=\"data row8 col2\" >-0.061520</td>\n",
       "                        <td id=\"T_f8049_row8_col3\" class=\"data row8 col3\" >-0.003634</td>\n",
       "                        <td id=\"T_f8049_row8_col4\" class=\"data row8 col4\" >-0.116223</td>\n",
       "                        <td id=\"T_f8049_row8_col5\" class=\"data row8 col5\" >-0.068430</td>\n",
       "                        <td id=\"T_f8049_row8_col6\" class=\"data row8 col6\" >-0.059098</td>\n",
       "                        <td id=\"T_f8049_row8_col7\" class=\"data row8 col7\" >-0.095498</td>\n",
       "                        <td id=\"T_f8049_row8_col8\" class=\"data row8 col8\" >1.000000</td>\n",
       "                        <td id=\"T_f8049_row8_col9\" class=\"data row8 col9\" >0.123654</td>\n",
       "                        <td id=\"T_f8049_row8_col10\" class=\"data row8 col10\" >0.134195</td>\n",
       "                        <td id=\"T_f8049_row8_col11\" class=\"data row8 col11\" >0.022035</td>\n",
       "                        <td id=\"T_f8049_row8_col12\" class=\"data row8 col12\" >0.023942</td>\n",
       "                        <td id=\"T_f8049_row8_col13\" class=\"data row8 col13\" >-0.044479</td>\n",
       "                        <td id=\"T_f8049_row8_col14\" class=\"data row8 col14\" >-0.231201</td>\n",
       "                        <td id=\"T_f8049_row8_col15\" class=\"data row8 col15\" >-0.101249</td>\n",
       "                        <td id=\"T_f8049_row8_col16\" class=\"data row8 col16\" >-0.193094</td>\n",
       "                        <td id=\"T_f8049_row8_col17\" class=\"data row8 col17\" >-0.227548</td>\n",
       "                        <td id=\"T_f8049_row8_col18\" class=\"data row8 col18\" >0.029961</td>\n",
       "                        <td id=\"T_f8049_row8_col19\" class=\"data row8 col19\" >-0.089218</td>\n",
       "                        <td id=\"T_f8049_row8_col20\" class=\"data row8 col20\" >0.170939</td>\n",
       "                        <td id=\"T_f8049_row8_col21\" class=\"data row8 col21\" >0.162798</td>\n",
       "            </tr>\n",
       "            <tr>\n",
       "                        <th id=\"T_f8049_level0_row9\" class=\"row_heading level0 row9\" >Fruits</th>\n",
       "                        <td id=\"T_f8049_row9_col0\" class=\"data row9 col0\" >-0.006970</td>\n",
       "                        <td id=\"T_f8049_row9_col1\" class=\"data row9 col1\" >-0.017561</td>\n",
       "                        <td id=\"T_f8049_row9_col2\" class=\"data row9 col2\" >-0.025891</td>\n",
       "                        <td id=\"T_f8049_row9_col3\" class=\"data row9 col3\" >0.018391</td>\n",
       "                        <td id=\"T_f8049_row9_col4\" class=\"data row9 col4\" >-0.068118</td>\n",
       "                        <td id=\"T_f8049_row9_col5\" class=\"data row9 col5\" >-0.062586</td>\n",
       "                        <td id=\"T_f8049_row9_col6\" class=\"data row9 col6\" >-0.004492</td>\n",
       "                        <td id=\"T_f8049_row9_col7\" class=\"data row9 col7\" >-0.023172</td>\n",
       "                        <td id=\"T_f8049_row9_col8\" class=\"data row9 col8\" >0.123654</td>\n",
       "                        <td id=\"T_f8049_row9_col9\" class=\"data row9 col9\" >1.000000</td>\n",
       "                        <td id=\"T_f8049_row9_col10\" class=\"data row9 col10\" >0.242481</td>\n",
       "                        <td id=\"T_f8049_row9_col11\" class=\"data row9 col11\" >-0.028692</td>\n",
       "                        <td id=\"T_f8049_row9_col12\" class=\"data row9 col12\" >0.022083</td>\n",
       "                        <td id=\"T_f8049_row9_col13\" class=\"data row9 col13\" >-0.031351</td>\n",
       "                        <td id=\"T_f8049_row9_col14\" class=\"data row9 col14\" >-0.069235</td>\n",
       "                        <td id=\"T_f8049_row9_col15\" class=\"data row9 col15\" >-0.050247</td>\n",
       "                        <td id=\"T_f8049_row9_col16\" class=\"data row9 col16\" >-0.023042</td>\n",
       "                        <td id=\"T_f8049_row9_col17\" class=\"data row9 col17\" >-0.027223</td>\n",
       "                        <td id=\"T_f8049_row9_col18\" class=\"data row9 col18\" >-0.090109</td>\n",
       "                        <td id=\"T_f8049_row9_col19\" class=\"data row9 col19\" >0.072765</td>\n",
       "                        <td id=\"T_f8049_row9_col20\" class=\"data row9 col20\" >0.084132</td>\n",
       "                        <td id=\"T_f8049_row9_col21\" class=\"data row9 col21\" >0.049143</td>\n",
       "            </tr>\n",
       "            <tr>\n",
       "                        <th id=\"T_f8049_level0_row10\" class=\"row_heading level0 row10\" >Veggies</th>\n",
       "                        <td id=\"T_f8049_row10_col0\" class=\"data row10 col0\" >-0.027054</td>\n",
       "                        <td id=\"T_f8049_row10_col1\" class=\"data row10 col1\" >-0.041865</td>\n",
       "                        <td id=\"T_f8049_row10_col2\" class=\"data row10 col2\" >-0.026585</td>\n",
       "                        <td id=\"T_f8049_row10_col3\" class=\"data row10 col3\" >-0.000448</td>\n",
       "                        <td id=\"T_f8049_row10_col4\" class=\"data row10 col4\" >-0.045232</td>\n",
       "                        <td id=\"T_f8049_row10_col5\" class=\"data row10 col5\" >-0.014807</td>\n",
       "                        <td id=\"T_f8049_row10_col6\" class=\"data row10 col6\" >-0.032688</td>\n",
       "                        <td id=\"T_f8049_row10_col7\" class=\"data row10 col7\" >-0.042336</td>\n",
       "                        <td id=\"T_f8049_row10_col8\" class=\"data row10 col8\" >0.134195</td>\n",
       "                        <td id=\"T_f8049_row10_col9\" class=\"data row10 col9\" >0.242481</td>\n",
       "                        <td id=\"T_f8049_row10_col10\" class=\"data row10 col10\" >1.000000</td>\n",
       "                        <td id=\"T_f8049_row10_col11\" class=\"data row10 col11\" >0.029730</td>\n",
       "                        <td id=\"T_f8049_row10_col12\" class=\"data row10 col12\" >0.020369</td>\n",
       "                        <td id=\"T_f8049_row10_col13\" class=\"data row10 col13\" >-0.019488</td>\n",
       "                        <td id=\"T_f8049_row10_col14\" class=\"data row10 col14\" >-0.093180</td>\n",
       "                        <td id=\"T_f8049_row10_col15\" class=\"data row10 col15\" >-0.041018</td>\n",
       "                        <td id=\"T_f8049_row10_col16\" class=\"data row10 col16\" >-0.044441</td>\n",
       "                        <td id=\"T_f8049_row10_col17\" class=\"data row10 col17\" >-0.061986</td>\n",
       "                        <td id=\"T_f8049_row10_col18\" class=\"data row10 col18\" >-0.068001</td>\n",
       "                        <td id=\"T_f8049_row10_col19\" class=\"data row10 col19\" >-0.004878</td>\n",
       "                        <td id=\"T_f8049_row10_col20\" class=\"data row10 col20\" >0.131385</td>\n",
       "                        <td id=\"T_f8049_row10_col21\" class=\"data row10 col21\" >0.124202</td>\n",
       "            </tr>\n",
       "            <tr>\n",
       "                        <th id=\"T_f8049_level0_row11\" class=\"row_heading level0 row11\" >HvyAlcoholConsump</th>\n",
       "                        <td id=\"T_f8049_row11_col0\" class=\"data row11 col0\" >-0.035517</td>\n",
       "                        <td id=\"T_f8049_row11_col1\" class=\"data row11 col1\" >-0.012563</td>\n",
       "                        <td id=\"T_f8049_row11_col2\" class=\"data row11 col2\" >-0.018772</td>\n",
       "                        <td id=\"T_f8049_row11_col3\" class=\"data row11 col3\" >-0.020875</td>\n",
       "                        <td id=\"T_f8049_row11_col4\" class=\"data row11 col4\" >-0.059706</td>\n",
       "                        <td id=\"T_f8049_row11_col5\" class=\"data row11 col5\" >0.096195</td>\n",
       "                        <td id=\"T_f8049_row11_col6\" class=\"data row11 col6\" >-0.021224</td>\n",
       "                        <td id=\"T_f8049_row11_col7\" class=\"data row11 col7\" >-0.064913</td>\n",
       "                        <td id=\"T_f8049_row11_col8\" class=\"data row11 col8\" >0.022035</td>\n",
       "                        <td id=\"T_f8049_row11_col9\" class=\"data row11 col9\" >-0.028692</td>\n",
       "                        <td id=\"T_f8049_row11_col10\" class=\"data row11 col10\" >0.029730</td>\n",
       "                        <td id=\"T_f8049_row11_col11\" class=\"data row11 col11\" >1.000000</td>\n",
       "                        <td id=\"T_f8049_row11_col12\" class=\"data row11 col12\" >-0.006577</td>\n",
       "                        <td id=\"T_f8049_row11_col13\" class=\"data row11 col13\" >-0.000449</td>\n",
       "                        <td id=\"T_f8049_row11_col14\" class=\"data row11 col14\" >-0.054157</td>\n",
       "                        <td id=\"T_f8049_row11_col15\" class=\"data row11 col15\" >0.018455</td>\n",
       "                        <td id=\"T_f8049_row11_col16\" class=\"data row11 col16\" >-0.035437</td>\n",
       "                        <td id=\"T_f8049_row11_col17\" class=\"data row11 col17\" >-0.045226</td>\n",
       "                        <td id=\"T_f8049_row11_col18\" class=\"data row11 col18\" >0.007720</td>\n",
       "                        <td id=\"T_f8049_row11_col19\" class=\"data row11 col19\" >-0.041847</td>\n",
       "                        <td id=\"T_f8049_row11_col20\" class=\"data row11 col20\" >0.038910</td>\n",
       "                        <td id=\"T_f8049_row11_col21\" class=\"data row11 col21\" >0.070791</td>\n",
       "            </tr>\n",
       "            <tr>\n",
       "                        <th id=\"T_f8049_level0_row12\" class=\"row_heading level0 row12\" >AnyHealthcare</th>\n",
       "                        <td id=\"T_f8049_row12_col0\" class=\"data row12 col0\" >0.026623</td>\n",
       "                        <td id=\"T_f8049_row12_col1\" class=\"data row12 col1\" >0.052722</td>\n",
       "                        <td id=\"T_f8049_row12_col2\" class=\"data row12 col2\" >0.053544</td>\n",
       "                        <td id=\"T_f8049_row12_col3\" class=\"data row12 col3\" >0.115723</td>\n",
       "                        <td id=\"T_f8049_row12_col4\" class=\"data row12 col4\" >-0.001742</td>\n",
       "                        <td id=\"T_f8049_row12_col5\" class=\"data row12 col5\" >-0.014507</td>\n",
       "                        <td id=\"T_f8049_row12_col6\" class=\"data row12 col6\" >0.013933</td>\n",
       "                        <td id=\"T_f8049_row12_col7\" class=\"data row12 col7\" >0.024652</td>\n",
       "                        <td id=\"T_f8049_row12_col8\" class=\"data row12 col8\" >0.023942</td>\n",
       "                        <td id=\"T_f8049_row12_col9\" class=\"data row12 col9\" >0.022083</td>\n",
       "                        <td id=\"T_f8049_row12_col10\" class=\"data row12 col10\" >0.020369</td>\n",
       "                        <td id=\"T_f8049_row12_col11\" class=\"data row12 col11\" >-0.006577</td>\n",
       "                        <td id=\"T_f8049_row12_col12\" class=\"data row12 col12\" >1.000000</td>\n",
       "                        <td id=\"T_f8049_row12_col13\" class=\"data row12 col13\" >-0.226185</td>\n",
       "                        <td id=\"T_f8049_row12_col14\" class=\"data row12 col14\" >-0.023173</td>\n",
       "                        <td id=\"T_f8049_row12_col15\" class=\"data row12 col15\" >-0.043513</td>\n",
       "                        <td id=\"T_f8049_row12_col16\" class=\"data row12 col16\" >0.003137</td>\n",
       "                        <td id=\"T_f8049_row12_col17\" class=\"data row12 col17\" >0.017566</td>\n",
       "                        <td id=\"T_f8049_row12_col18\" class=\"data row12 col18\" >-0.022186</td>\n",
       "                        <td id=\"T_f8049_row12_col19\" class=\"data row12 col19\" >0.147233</td>\n",
       "                        <td id=\"T_f8049_row12_col20\" class=\"data row12 col20\" >0.111392</td>\n",
       "                        <td id=\"T_f8049_row12_col21\" class=\"data row12 col21\" >0.147004</td>\n",
       "            </tr>\n",
       "            <tr>\n",
       "                        <th id=\"T_f8049_level0_row13\" class=\"row_heading level0 row13\" >NoDocbcCost</th>\n",
       "                        <td id=\"T_f8049_row13_col0\" class=\"data row13 col0\" >0.020706</td>\n",
       "                        <td id=\"T_f8049_row13_col1\" class=\"data row13 col1\" >0.000203</td>\n",
       "                        <td id=\"T_f8049_row13_col2\" class=\"data row13 col2\" >0.001828</td>\n",
       "                        <td id=\"T_f8049_row13_col3\" class=\"data row13 col3\" >-0.054927</td>\n",
       "                        <td id=\"T_f8049_row13_col4\" class=\"data row13 col4\" >0.037662</td>\n",
       "                        <td id=\"T_f8049_row13_col5\" class=\"data row13 col5\" >0.038312</td>\n",
       "                        <td id=\"T_f8049_row13_col6\" class=\"data row13 col6\" >0.027963</td>\n",
       "                        <td id=\"T_f8049_row13_col7\" class=\"data row13 col7\" >0.023382</td>\n",
       "                        <td id=\"T_f8049_row13_col8\" class=\"data row13 col8\" >-0.044479</td>\n",
       "                        <td id=\"T_f8049_row13_col9\" class=\"data row13 col9\" >-0.031351</td>\n",
       "                        <td id=\"T_f8049_row13_col10\" class=\"data row13 col10\" >-0.019488</td>\n",
       "                        <td id=\"T_f8049_row13_col11\" class=\"data row13 col11\" >-0.000449</td>\n",
       "                        <td id=\"T_f8049_row13_col12\" class=\"data row13 col12\" >-0.226185</td>\n",
       "                        <td id=\"T_f8049_row13_col13\" class=\"data row13 col13\" >1.000000</td>\n",
       "                        <td id=\"T_f8049_row13_col14\" class=\"data row13 col14\" >0.146496</td>\n",
       "                        <td id=\"T_f8049_row13_col15\" class=\"data row13 col15\" >0.179245</td>\n",
       "                        <td id=\"T_f8049_row13_col16\" class=\"data row13 col16\" >0.133525</td>\n",
       "                        <td id=\"T_f8049_row13_col17\" class=\"data row13 col17\" >0.102668</td>\n",
       "                        <td id=\"T_f8049_row13_col18\" class=\"data row13 col18\" >-0.044710</td>\n",
       "                        <td id=\"T_f8049_row13_col19\" class=\"data row13 col19\" >-0.129289</td>\n",
       "                        <td id=\"T_f8049_row13_col20\" class=\"data row13 col20\" >-0.082922</td>\n",
       "                        <td id=\"T_f8049_row13_col21\" class=\"data row13 col21\" >-0.186039</td>\n",
       "            </tr>\n",
       "            <tr>\n",
       "                        <th id=\"T_f8049_level0_row14\" class=\"row_heading level0 row14\" >GenHlth</th>\n",
       "                        <td id=\"T_f8049_row14_col0\" class=\"data row14 col0\" >0.246957</td>\n",
       "                        <td id=\"T_f8049_row14_col1\" class=\"data row14 col1\" >0.267843</td>\n",
       "                        <td id=\"T_f8049_row14_col2\" class=\"data row14 col2\" >0.187238</td>\n",
       "                        <td id=\"T_f8049_row14_col3\" class=\"data row14 col3\" >0.062693</td>\n",
       "                        <td id=\"T_f8049_row14_col4\" class=\"data row14 col4\" >0.199072</td>\n",
       "                        <td id=\"T_f8049_row14_col5\" class=\"data row14 col5\" >0.137209</td>\n",
       "                        <td id=\"T_f8049_row14_col6\" class=\"data row14 col6\" >0.170654</td>\n",
       "                        <td id=\"T_f8049_row14_col7\" class=\"data row14 col7\" >0.274787</td>\n",
       "                        <td id=\"T_f8049_row14_col8\" class=\"data row14 col8\" >-0.231201</td>\n",
       "                        <td id=\"T_f8049_row14_col9\" class=\"data row14 col9\" >-0.069235</td>\n",
       "                        <td id=\"T_f8049_row14_col10\" class=\"data row14 col10\" >-0.093180</td>\n",
       "                        <td id=\"T_f8049_row14_col11\" class=\"data row14 col11\" >-0.054157</td>\n",
       "                        <td id=\"T_f8049_row14_col12\" class=\"data row14 col12\" >-0.023173</td>\n",
       "                        <td id=\"T_f8049_row14_col13\" class=\"data row14 col13\" >0.146496</td>\n",
       "                        <td id=\"T_f8049_row14_col14\" class=\"data row14 col14\" >1.000000</td>\n",
       "                        <td id=\"T_f8049_row14_col15\" class=\"data row14 col15\" >0.277791</td>\n",
       "                        <td id=\"T_f8049_row14_col16\" class=\"data row14 col16\" >0.510950</td>\n",
       "                        <td id=\"T_f8049_row14_col17\" class=\"data row14 col17\" >0.438715</td>\n",
       "                        <td id=\"T_f8049_row14_col18\" class=\"data row14 col18\" >-0.005641</td>\n",
       "                        <td id=\"T_f8049_row14_col19\" class=\"data row14 col19\" >0.151750</td>\n",
       "                        <td id=\"T_f8049_row14_col20\" class=\"data row14 col20\" >-0.244151</td>\n",
       "                        <td id=\"T_f8049_row14_col21\" class=\"data row14 col21\" >-0.327221</td>\n",
       "            </tr>\n",
       "            <tr>\n",
       "                        <th id=\"T_f8049_level0_row15\" class=\"row_heading level0 row15\" >MentHlth</th>\n",
       "                        <td id=\"T_f8049_row15_col0\" class=\"data row15 col0\" >0.051141</td>\n",
       "                        <td id=\"T_f8049_row15_col1\" class=\"data row15 col1\" >0.033085</td>\n",
       "                        <td id=\"T_f8049_row15_col2\" class=\"data row15 col2\" >0.048426</td>\n",
       "                        <td id=\"T_f8049_row15_col3\" class=\"data row15 col3\" >-0.002655</td>\n",
       "                        <td id=\"T_f8049_row15_col4\" class=\"data row15 col4\" >0.047741</td>\n",
       "                        <td id=\"T_f8049_row15_col5\" class=\"data row15 col5\" >0.077562</td>\n",
       "                        <td id=\"T_f8049_row15_col6\" class=\"data row15 col6\" >0.061293</td>\n",
       "                        <td id=\"T_f8049_row15_col7\" class=\"data row15 col7\" >0.052147</td>\n",
       "                        <td id=\"T_f8049_row15_col8\" class=\"data row15 col8\" >-0.101249</td>\n",
       "                        <td id=\"T_f8049_row15_col9\" class=\"data row15 col9\" >-0.050247</td>\n",
       "                        <td id=\"T_f8049_row15_col10\" class=\"data row15 col10\" >-0.041018</td>\n",
       "                        <td id=\"T_f8049_row15_col11\" class=\"data row15 col11\" >0.018455</td>\n",
       "                        <td id=\"T_f8049_row15_col12\" class=\"data row15 col12\" >-0.043513</td>\n",
       "                        <td id=\"T_f8049_row15_col13\" class=\"data row15 col13\" >0.179245</td>\n",
       "                        <td id=\"T_f8049_row15_col14\" class=\"data row15 col14\" >0.277791</td>\n",
       "                        <td id=\"T_f8049_row15_col15\" class=\"data row15 col15\" >1.000000</td>\n",
       "                        <td id=\"T_f8049_row15_col16\" class=\"data row15 col16\" >0.335298</td>\n",
       "                        <td id=\"T_f8049_row15_col17\" class=\"data row15 col17\" >0.212071</td>\n",
       "                        <td id=\"T_f8049_row15_col18\" class=\"data row15 col18\" >-0.080739</td>\n",
       "                        <td id=\"T_f8049_row15_col19\" class=\"data row15 col19\" >-0.100835</td>\n",
       "                        <td id=\"T_f8049_row15_col20\" class=\"data row15 col20\" >-0.073796</td>\n",
       "                        <td id=\"T_f8049_row15_col21\" class=\"data row15 col21\" >-0.179575</td>\n",
       "            </tr>\n",
       "            <tr>\n",
       "                        <th id=\"T_f8049_level0_row16\" class=\"row_heading level0 row16\" >PhysHlth</th>\n",
       "                        <td id=\"T_f8049_row16_col0\" class=\"data row16 col0\" >0.169172</td>\n",
       "                        <td id=\"T_f8049_row16_col1\" class=\"data row16 col1\" >0.138998</td>\n",
       "                        <td id=\"T_f8049_row16_col2\" class=\"data row16 col2\" >0.108584</td>\n",
       "                        <td id=\"T_f8049_row16_col3\" class=\"data row16 col3\" >0.039808</td>\n",
       "                        <td id=\"T_f8049_row16_col4\" class=\"data row16 col4\" >0.077895</td>\n",
       "                        <td id=\"T_f8049_row16_col5\" class=\"data row16 col5\" >0.101162</td>\n",
       "                        <td id=\"T_f8049_row16_col6\" class=\"data row16 col6\" >0.140447</td>\n",
       "                        <td id=\"T_f8049_row16_col7\" class=\"data row16 col7\" >0.149647</td>\n",
       "                        <td id=\"T_f8049_row16_col8\" class=\"data row16 col8\" >-0.193094</td>\n",
       "                        <td id=\"T_f8049_row16_col9\" class=\"data row16 col9\" >-0.023042</td>\n",
       "                        <td id=\"T_f8049_row16_col10\" class=\"data row16 col10\" >-0.044441</td>\n",
       "                        <td id=\"T_f8049_row16_col11\" class=\"data row16 col11\" >-0.035437</td>\n",
       "                        <td id=\"T_f8049_row16_col12\" class=\"data row16 col12\" >0.003137</td>\n",
       "                        <td id=\"T_f8049_row16_col13\" class=\"data row16 col13\" >0.133525</td>\n",
       "                        <td id=\"T_f8049_row16_col14\" class=\"data row16 col14\" >0.510950</td>\n",
       "                        <td id=\"T_f8049_row16_col15\" class=\"data row16 col15\" >0.335298</td>\n",
       "                        <td id=\"T_f8049_row16_col16\" class=\"data row16 col16\" >1.000000</td>\n",
       "                        <td id=\"T_f8049_row16_col17\" class=\"data row16 col17\" >0.460747</td>\n",
       "                        <td id=\"T_f8049_row16_col18\" class=\"data row16 col18\" >-0.040348</td>\n",
       "                        <td id=\"T_f8049_row16_col19\" class=\"data row16 col19\" >0.098532</td>\n",
       "                        <td id=\"T_f8049_row16_col20\" class=\"data row16 col20\" >-0.125529</td>\n",
       "                        <td id=\"T_f8049_row16_col21\" class=\"data row16 col21\" >-0.235011</td>\n",
       "            </tr>\n",
       "            <tr>\n",
       "                        <th id=\"T_f8049_level0_row17\" class=\"row_heading level0 row17\" >DiffWalk</th>\n",
       "                        <td id=\"T_f8049_row17_col0\" class=\"data row17 col0\" >0.203160</td>\n",
       "                        <td id=\"T_f8049_row17_col1\" class=\"data row17 col1\" >0.204609</td>\n",
       "                        <td id=\"T_f8049_row17_col2\" class=\"data row17 col2\" >0.134003</td>\n",
       "                        <td id=\"T_f8049_row17_col3\" class=\"data row17 col3\" >0.047821</td>\n",
       "                        <td id=\"T_f8049_row17_col4\" class=\"data row17 col4\" >0.154559</td>\n",
       "                        <td id=\"T_f8049_row17_col5\" class=\"data row17 col5\" >0.110112</td>\n",
       "                        <td id=\"T_f8049_row17_col6\" class=\"data row17 col6\" >0.170430</td>\n",
       "                        <td id=\"T_f8049_row17_col7\" class=\"data row17 col7\" >0.196589</td>\n",
       "                        <td id=\"T_f8049_row17_col8\" class=\"data row17 col8\" >-0.227548</td>\n",
       "                        <td id=\"T_f8049_row17_col9\" class=\"data row17 col9\" >-0.027223</td>\n",
       "                        <td id=\"T_f8049_row17_col10\" class=\"data row17 col10\" >-0.061986</td>\n",
       "                        <td id=\"T_f8049_row17_col11\" class=\"data row17 col11\" >-0.045226</td>\n",
       "                        <td id=\"T_f8049_row17_col12\" class=\"data row17 col12\" >0.017566</td>\n",
       "                        <td id=\"T_f8049_row17_col13\" class=\"data row17 col13\" >0.102668</td>\n",
       "                        <td id=\"T_f8049_row17_col14\" class=\"data row17 col14\" >0.438715</td>\n",
       "                        <td id=\"T_f8049_row17_col15\" class=\"data row17 col15\" >0.212071</td>\n",
       "                        <td id=\"T_f8049_row17_col16\" class=\"data row17 col16\" >0.460747</td>\n",
       "                        <td id=\"T_f8049_row17_col17\" class=\"data row17 col17\" >1.000000</td>\n",
       "                        <td id=\"T_f8049_row17_col18\" class=\"data row17 col18\" >-0.067470</td>\n",
       "                        <td id=\"T_f8049_row17_col19\" class=\"data row17 col19\" >0.209853</td>\n",
       "                        <td id=\"T_f8049_row17_col20\" class=\"data row17 col20\" >-0.166968</td>\n",
       "                        <td id=\"T_f8049_row17_col21\" class=\"data row17 col21\" >-0.292235</td>\n",
       "            </tr>\n",
       "            <tr>\n",
       "                        <th id=\"T_f8049_level0_row18\" class=\"row_heading level0 row18\" >Sex</th>\n",
       "                        <td id=\"T_f8049_row18_col0\" class=\"data row18 col0\" >0.090911</td>\n",
       "                        <td id=\"T_f8049_row18_col1\" class=\"data row18 col1\" >0.049669</td>\n",
       "                        <td id=\"T_f8049_row18_col2\" class=\"data row18 col2\" >0.023665</td>\n",
       "                        <td id=\"T_f8049_row18_col3\" class=\"data row18 col3\" >-0.023864</td>\n",
       "                        <td id=\"T_f8049_row18_col4\" class=\"data row18 col4\" >0.063967</td>\n",
       "                        <td id=\"T_f8049_row18_col5\" class=\"data row18 col5\" >0.096929</td>\n",
       "                        <td id=\"T_f8049_row18_col6\" class=\"data row18 col6\" >0.004362</td>\n",
       "                        <td id=\"T_f8049_row18_col7\" class=\"data row18 col7\" >0.035422</td>\n",
       "                        <td id=\"T_f8049_row18_col8\" class=\"data row18 col8\" >0.029961</td>\n",
       "                        <td id=\"T_f8049_row18_col9\" class=\"data row18 col9\" >-0.090109</td>\n",
       "                        <td id=\"T_f8049_row18_col10\" class=\"data row18 col10\" >-0.068001</td>\n",
       "                        <td id=\"T_f8049_row18_col11\" class=\"data row18 col11\" >0.007720</td>\n",
       "                        <td id=\"T_f8049_row18_col12\" class=\"data row18 col12\" >-0.022186</td>\n",
       "                        <td id=\"T_f8049_row18_col13\" class=\"data row18 col13\" >-0.044710</td>\n",
       "                        <td id=\"T_f8049_row18_col14\" class=\"data row18 col14\" >-0.005641</td>\n",
       "                        <td id=\"T_f8049_row18_col15\" class=\"data row18 col15\" >-0.080739</td>\n",
       "                        <td id=\"T_f8049_row18_col16\" class=\"data row18 col16\" >-0.040348</td>\n",
       "                        <td id=\"T_f8049_row18_col17\" class=\"data row18 col17\" >-0.067470</td>\n",
       "                        <td id=\"T_f8049_row18_col18\" class=\"data row18 col18\" >1.000000</td>\n",
       "                        <td id=\"T_f8049_row18_col19\" class=\"data row18 col19\" >-0.033345</td>\n",
       "                        <td id=\"T_f8049_row18_col20\" class=\"data row18 col20\" >0.014861</td>\n",
       "                        <td id=\"T_f8049_row18_col21\" class=\"data row18 col21\" >0.128315</td>\n",
       "            </tr>\n",
       "            <tr>\n",
       "                        <th id=\"T_f8049_level0_row19\" class=\"row_heading level0 row19\" >Age</th>\n",
       "                        <td id=\"T_f8049_row19_col0\" class=\"data row19 col0\" >0.224959</td>\n",
       "                        <td id=\"T_f8049_row19_col1\" class=\"data row19 col1\" >0.344267</td>\n",
       "                        <td id=\"T_f8049_row19_col2\" class=\"data row19 col2\" >0.265441</td>\n",
       "                        <td id=\"T_f8049_row19_col3\" class=\"data row19 col3\" >0.096836</td>\n",
       "                        <td id=\"T_f8049_row19_col4\" class=\"data row19 col4\" >-0.025932</td>\n",
       "                        <td id=\"T_f8049_row19_col5\" class=\"data row19 col5\" >0.108074</td>\n",
       "                        <td id=\"T_f8049_row19_col6\" class=\"data row19 col6\" >0.128525</td>\n",
       "                        <td id=\"T_f8049_row19_col7\" class=\"data row19 col7\" >0.188899</td>\n",
       "                        <td id=\"T_f8049_row19_col8\" class=\"data row19 col8\" >-0.089218</td>\n",
       "                        <td id=\"T_f8049_row19_col9\" class=\"data row19 col9\" >0.072765</td>\n",
       "                        <td id=\"T_f8049_row19_col10\" class=\"data row19 col10\" >-0.004878</td>\n",
       "                        <td id=\"T_f8049_row19_col11\" class=\"data row19 col11\" >-0.041847</td>\n",
       "                        <td id=\"T_f8049_row19_col12\" class=\"data row19 col12\" >0.147233</td>\n",
       "                        <td id=\"T_f8049_row19_col13\" class=\"data row19 col13\" >-0.129289</td>\n",
       "                        <td id=\"T_f8049_row19_col14\" class=\"data row19 col14\" >0.151750</td>\n",
       "                        <td id=\"T_f8049_row19_col15\" class=\"data row19 col15\" >-0.100835</td>\n",
       "                        <td id=\"T_f8049_row19_col16\" class=\"data row19 col16\" >0.098532</td>\n",
       "                        <td id=\"T_f8049_row19_col17\" class=\"data row19 col17\" >0.209853</td>\n",
       "                        <td id=\"T_f8049_row19_col18\" class=\"data row19 col18\" >-0.033345</td>\n",
       "                        <td id=\"T_f8049_row19_col19\" class=\"data row19 col19\" >1.000000</td>\n",
       "                        <td id=\"T_f8049_row19_col20\" class=\"data row19 col20\" >-0.094774</td>\n",
       "                        <td id=\"T_f8049_row19_col21\" class=\"data row19 col21\" >-0.121456</td>\n",
       "            </tr>\n",
       "            <tr>\n",
       "                        <th id=\"T_f8049_level0_row20\" class=\"row_heading level0 row20\" >Education</th>\n",
       "                        <td id=\"T_f8049_row20_col0\" class=\"data row20 col0\" >-0.081886</td>\n",
       "                        <td id=\"T_f8049_row20_col1\" class=\"data row20 col1\" >-0.111103</td>\n",
       "                        <td id=\"T_f8049_row20_col2\" class=\"data row20 col2\" >-0.048749</td>\n",
       "                        <td id=\"T_f8049_row20_col3\" class=\"data row20 col3\" >-0.009656</td>\n",
       "                        <td id=\"T_f8049_row20_col4\" class=\"data row20 col4\" >-0.077573</td>\n",
       "                        <td id=\"T_f8049_row20_col5\" class=\"data row20 col5\" >-0.136640</td>\n",
       "                        <td id=\"T_f8049_row20_col6\" class=\"data row20 col6\" >-0.063906</td>\n",
       "                        <td id=\"T_f8049_row20_col7\" class=\"data row20 col7\" >-0.106288</td>\n",
       "                        <td id=\"T_f8049_row20_col8\" class=\"data row20 col8\" >0.170939</td>\n",
       "                        <td id=\"T_f8049_row20_col9\" class=\"data row20 col9\" >0.084132</td>\n",
       "                        <td id=\"T_f8049_row20_col10\" class=\"data row20 col10\" >0.131385</td>\n",
       "                        <td id=\"T_f8049_row20_col11\" class=\"data row20 col11\" >0.038910</td>\n",
       "                        <td id=\"T_f8049_row20_col12\" class=\"data row20 col12\" >0.111392</td>\n",
       "                        <td id=\"T_f8049_row20_col13\" class=\"data row20 col13\" >-0.082922</td>\n",
       "                        <td id=\"T_f8049_row20_col14\" class=\"data row20 col14\" >-0.244151</td>\n",
       "                        <td id=\"T_f8049_row20_col15\" class=\"data row20 col15\" >-0.073796</td>\n",
       "                        <td id=\"T_f8049_row20_col16\" class=\"data row20 col16\" >-0.125529</td>\n",
       "                        <td id=\"T_f8049_row20_col17\" class=\"data row20 col17\" >-0.166968</td>\n",
       "                        <td id=\"T_f8049_row20_col18\" class=\"data row20 col18\" >0.014861</td>\n",
       "                        <td id=\"T_f8049_row20_col19\" class=\"data row20 col19\" >-0.094774</td>\n",
       "                        <td id=\"T_f8049_row20_col20\" class=\"data row20 col20\" >1.000000</td>\n",
       "                        <td id=\"T_f8049_row20_col21\" class=\"data row20 col21\" >0.418529</td>\n",
       "            </tr>\n",
       "            <tr>\n",
       "                        <th id=\"T_f8049_level0_row21\" class=\"row_heading level0 row21\" >Income</th>\n",
       "                        <td id=\"T_f8049_row21_col0\" class=\"data row21 col0\" >-0.121779</td>\n",
       "                        <td id=\"T_f8049_row21_col1\" class=\"data row21 col1\" >-0.136011</td>\n",
       "                        <td id=\"T_f8049_row21_col2\" class=\"data row21 col2\" >-0.060012</td>\n",
       "                        <td id=\"T_f8049_row21_col3\" class=\"data row21 col3\" >0.002845</td>\n",
       "                        <td id=\"T_f8049_row21_col4\" class=\"data row21 col4\" >-0.045892</td>\n",
       "                        <td id=\"T_f8049_row21_col5\" class=\"data row21 col5\" >-0.096500</td>\n",
       "                        <td id=\"T_f8049_row21_col6\" class=\"data row21 col6\" >-0.116654</td>\n",
       "                        <td id=\"T_f8049_row21_col7\" class=\"data row21 col7\" >-0.142154</td>\n",
       "                        <td id=\"T_f8049_row21_col8\" class=\"data row21 col8\" >0.162798</td>\n",
       "                        <td id=\"T_f8049_row21_col9\" class=\"data row21 col9\" >0.049143</td>\n",
       "                        <td id=\"T_f8049_row21_col10\" class=\"data row21 col10\" >0.124202</td>\n",
       "                        <td id=\"T_f8049_row21_col11\" class=\"data row21 col11\" >0.070791</td>\n",
       "                        <td id=\"T_f8049_row21_col12\" class=\"data row21 col12\" >0.147004</td>\n",
       "                        <td id=\"T_f8049_row21_col13\" class=\"data row21 col13\" >-0.186039</td>\n",
       "                        <td id=\"T_f8049_row21_col14\" class=\"data row21 col14\" >-0.327221</td>\n",
       "                        <td id=\"T_f8049_row21_col15\" class=\"data row21 col15\" >-0.179575</td>\n",
       "                        <td id=\"T_f8049_row21_col16\" class=\"data row21 col16\" >-0.235011</td>\n",
       "                        <td id=\"T_f8049_row21_col17\" class=\"data row21 col17\" >-0.292235</td>\n",
       "                        <td id=\"T_f8049_row21_col18\" class=\"data row21 col18\" >0.128315</td>\n",
       "                        <td id=\"T_f8049_row21_col19\" class=\"data row21 col19\" >-0.121456</td>\n",
       "                        <td id=\"T_f8049_row21_col20\" class=\"data row21 col20\" >0.418529</td>\n",
       "                        <td id=\"T_f8049_row21_col21\" class=\"data row21 col21\" >1.000000</td>\n",
       "            </tr>\n",
       "    </tbody></table>"
      ],
      "text/plain": [
       "<pandas.io.formats.style.Styler at 0x1ef8a1e95b0>"
      ]
     },
     "execution_count": 20,
     "metadata": {},
     "output_type": "execute_result"
    }
   ],
   "source": [
    "df.corr().style.background_gradient()"
   ]
  },
  {
   "cell_type": "markdown",
   "id": "3985c795",
   "metadata": {},
   "source": [
    "Columns MentHlth and PhysHlth have a lot of outliers and have really low correlation with target, then we can drop them"
   ]
  },
  {
   "cell_type": "code",
   "execution_count": 21,
   "id": "1cbb2324",
   "metadata": {},
   "outputs": [],
   "source": [
    "for i in ['MentHlth', 'PhysHlth']:\n",
    "    del df[i]"
   ]
  },
  {
   "cell_type": "markdown",
   "id": "f642ae36",
   "metadata": {},
   "source": [
    "Let's check distribution of target"
   ]
  },
  {
   "cell_type": "code",
   "execution_count": 22,
   "id": "7e7b6945",
   "metadata": {},
   "outputs": [
    {
     "data": {
      "text/plain": [
       "<AxesSubplot:>"
      ]
     },
     "execution_count": 22,
     "metadata": {},
     "output_type": "execute_result"
    },
    {
     "data": {
      "image/png": "[encoded data removed]",
      "text/plain": [
       "<Figure size 432x288 with 1 Axes>"
      ]
     },
     "metadata": {
      "needs_background": "light"
     },
     "output_type": "display_data"
    }
   ],
   "source": [
    "df.HeartDiseaseorAttack.value_counts().plot(kind = 'bar')"
   ]
  },
  {
   "cell_type": "markdown",
   "id": "734718ac",
   "metadata": {},
   "source": [
    "Imbalanced data can affect on models' work"
   ]
  },
  {
   "cell_type": "markdown",
   "id": "055f9589",
   "metadata": {},
   "source": [
    "**Data splitting**"
   ]
  },
  {
   "cell_type": "code",
   "execution_count": 23,
   "id": "b3fdb0d3",
   "metadata": {},
   "outputs": [],
   "source": [
    "X_train, X_test, y_train, y_test = train_test_split(df.iloc[:, 1:], df.iloc[:, 0], test_size = 0.2, random_state = 50)"
   ]
  },
  {
   "cell_type": "code",
   "execution_count": 24,
   "id": "4d1dc899",
   "metadata": {},
   "outputs": [
    {
     "name": "stdout",
     "output_type": "stream",
     "text": [
      "X_train dataset:  (179259, 19)\n",
      "y_train dataset:  (179259,)\n",
      "X_test dataset:  (44815, 19)\n",
      "y_test dataset:  (44815,)\n"
     ]
    }
   ],
   "source": [
    "print(\"X_train dataset: \", X_train.shape)\n",
    "print(\"y_train dataset: \", y_train.shape)\n",
    "print(\"X_test dataset: \", X_test.shape)\n",
    "print(\"y_test dataset: \", y_test.shape)"
   ]
  },
  {
   "cell_type": "code",
   "execution_count": 25,
   "id": "6443c875",
   "metadata": {},
   "outputs": [
    {
     "data": {
      "text/plain": [
       "False    160853\n",
       "True      18406\n",
       "Name: HeartDiseaseorAttack, dtype: int64"
      ]
     },
     "execution_count": 25,
     "metadata": {},
     "output_type": "execute_result"
    }
   ],
   "source": [
    "y_train.value_counts()"
   ]
  },
  {
   "cell_type": "markdown",
   "id": "6446c22f",
   "metadata": {},
   "source": [
    "**Logistic Regression on imbalanced data to understand how imbalance will affect**"
   ]
  },
  {
   "cell_type": "code",
   "execution_count": 26,
   "id": "8fbd9119",
   "metadata": {},
   "outputs": [
    {
     "name": "stdout",
     "output_type": "stream",
     "text": [
      "              precision    recall  f1-score   support\n",
      "\n",
      "       False       0.91      0.99      0.95     40198\n",
      "        True       0.54      0.11      0.19      4617\n",
      "\n",
      "    accuracy                           0.90     44815\n",
      "   macro avg       0.72      0.55      0.57     44815\n",
      "weighted avg       0.87      0.90      0.87     44815\n",
      "\n"
     ]
    },
    {
     "name": "stderr",
     "output_type": "stream",
     "text": [
      "c:\\Python\\Python39\\lib\\site-packages\\sklearn\\linear_model\\_logistic.py:814: ConvergenceWarning: lbfgs failed to converge (status=1):\n",
      "STOP: TOTAL NO. of ITERATIONS REACHED LIMIT.\n",
      "\n",
      "Increase the number of iterations (max_iter) or scale the data as shown in:\n",
      "    https://scikit-learn.org/stable/modules/preprocessing.html\n",
      "Please also refer to the documentation for alternative solver options:\n",
      "    https://scikit-learn.org/stable/modules/linear_model.html#logistic-regression\n",
      "  n_iter_i = _check_optimize_result(\n"
     ]
    }
   ],
   "source": [
    "logit = LogisticRegression()\n",
    "logit.fit(X_train, y_train.ravel())\n",
    "predictions = logit.predict(X_test)\n",
    "\n",
    "print(classification_report(y_test, predictions)) "
   ]
  },
  {
   "cell_type": "markdown",
   "id": "b67939d3",
   "metadata": {},
   "source": [
    "Recall and f1-score for `True` class are really low.\n",
    "That means regression can't notice `True` class"
   ]
  },
  {
   "cell_type": "code",
   "execution_count": 27,
   "id": "bc83961f",
   "metadata": {},
   "outputs": [
    {
     "data": {
      "text/plain": [
       "array([[39745,   453],\n",
       "       [ 4087,   530]], dtype=int64)"
      ]
     },
     "execution_count": 27,
     "metadata": {},
     "output_type": "execute_result"
    }
   ],
   "source": [
    "confusion_matrix(y_test, predictions)"
   ]
  },
  {
   "cell_type": "markdown",
   "id": "5c32132a",
   "metadata": {},
   "source": [
    "**Oversampling to fix imbalance**"
   ]
  },
  {
   "cell_type": "code",
   "execution_count": 28,
   "id": "61178c81",
   "metadata": {},
   "outputs": [],
   "source": [
    "sm = SMOTE(random_state=50)\n",
    "X_train_res, y_train_res = sm.fit_resample(X_train, y_train.ravel())"
   ]
  },
  {
   "cell_type": "code",
   "execution_count": 29,
   "id": "87e89a6c",
   "metadata": {},
   "outputs": [
    {
     "name": "stdout",
     "output_type": "stream",
     "text": [
      "X_train dataset:  (321706, 19)\n",
      "y_train dataset:  (321706,)\n"
     ]
    },
    {
     "data": {
      "text/plain": [
       "False    160853\n",
       "True     160853\n",
       "dtype: int64"
      ]
     },
     "execution_count": 29,
     "metadata": {},
     "output_type": "execute_result"
    }
   ],
   "source": [
    "print(\"X_train dataset: \", X_train_res.shape)\n",
    "print(\"y_train dataset: \", y_train_res.shape)\n",
    "pd.DataFrame(y_train_res).value_counts()"
   ]
  },
  {
   "cell_type": "markdown",
   "id": "0e7e6560",
   "metadata": {},
   "source": [
    "Now we can test models on our data"
   ]
  },
  {
   "cell_type": "code",
   "execution_count": 30,
   "id": "98fcf7d9",
   "metadata": {},
   "outputs": [],
   "source": [
    "def val_curve(est, X = X_train_res, y = y_train_res, cv = 5):\n",
    "    #function for plotting curve where we can compare training scores and validation score and define, is there under or over -fitting\n",
    "     train_sizes, train_scores, test_scores = learning_curve(est, X_train_res, y_train_res, cv=5)\n",
    "\n",
    "     train_mean = np.mean(train_scores, axis=1)\n",
    "     test_mean = np.mean(test_scores, axis=1)\n",
    "     print('train size', train_sizes, '\\ntrain score', train_scores, '\\nval score', test_scores)\n",
    "     plt.plot(train_sizes, train_mean,\n",
    "         marker='o', markersize=5,\n",
    "         color='blue', label='Training Accuracy')\n",
    "     plt.plot(train_sizes, test_mean,\n",
    "         marker='o', markersize=5,\n",
    "         color='green', label='Validation Accuracy')\n",
    "     plt.xlabel('train size')\n",
    "     plt.ylabel('Accuracy')\n",
    "     plt.legend()\n",
    "     plt.grid()\n",
    "     plt.show()"
   ]
  },
  {
   "cell_type": "markdown",
   "id": "97a909d6",
   "metadata": {},
   "source": [
    "# Model testing and selection"
   ]
  },
  {
   "cell_type": "markdown",
   "id": "33d45e9a",
   "metadata": {},
   "source": [
    "### Logistic Regression"
   ]
  },
  {
   "cell_type": "markdown",
   "id": "463de804",
   "metadata": {},
   "source": [
    "Count of max iteration is 500, because dataset is large and not standartized"
   ]
  },
  {
   "cell_type": "code",
   "execution_count": 31,
   "id": "803d676c",
   "metadata": {},
   "outputs": [
    {
     "data": {
      "text/plain": [
       "array([0.7676168 , 0.82229061, 0.82392254, 0.81901121, 0.82255483])"
      ]
     },
     "execution_count": 31,
     "metadata": {},
     "output_type": "execute_result"
    }
   ],
   "source": [
    "logit1 = LogisticRegression(max_iter=500)\n",
    "cross_val_score(logit1, X_train_res, y_train_res)"
   ]
  },
  {
   "cell_type": "code",
   "execution_count": 32,
   "id": "57201990",
   "metadata": {},
   "outputs": [
    {
     "name": "stdout",
     "output_type": "stream",
     "text": [
      "              precision    recall  f1-score   support\n",
      "\n",
      "       False       0.82      0.79      0.81    160853\n",
      "        True       0.80      0.83      0.81    160853\n",
      "\n",
      "    accuracy                           0.81    321706\n",
      "   macro avg       0.81      0.81      0.81    321706\n",
      "weighted avg       0.81      0.81      0.81    321706\n",
      "\n"
     ]
    }
   ],
   "source": [
    "print(classification_report(y_train_res, cross_val_predict(logit1, X_train_res, y_train_res)))"
   ]
  },
  {
   "cell_type": "code",
   "execution_count": 33,
   "id": "1842bf9d",
   "metadata": {},
   "outputs": [
    {
     "name": "stdout",
     "output_type": "stream",
     "text": [
      "train size [ 25736  83643 141550 199457 257364] \n",
      "train score [[       nan 0.90181069 0.90181069 0.90181069 0.90181069]\n",
      " [       nan 0.86644429 0.86637256 0.89907105 0.89907105]\n",
      " [0.91939951 0.87956906 0.87950548 0.87962557 0.89903214]\n",
      " [0.82468903 0.80491535 0.8049003  0.80658989 0.80551698]\n",
      " [0.82252763 0.81008999 0.80933231 0.81080882 0.80970921]] \n",
      "val score [[       nan 0.59602742 0.59500163 0.59437994 0.59660248]\n",
      " [       nan 0.64043145 0.63755615 0.58991934 0.59234392]\n",
      " [0.59034534 0.62052191 0.61890552 0.61962046 0.59046331]\n",
      " [0.74040285 0.80600239 0.80792962 0.80356227 0.80609565]\n",
      " [0.7676168  0.82235278 0.82396916 0.81896458 0.82246157]]\n"
     ]
    },
    {
     "data": {
      "image/png": "[encoded data removed]",
      "text/plain": [
       "<Figure size 432x288 with 1 Axes>"
      ]
     },
     "metadata": {
      "needs_background": "light"
     },
     "output_type": "display_data"
    }
   ],
   "source": [
    "val_curve(logit1)"
   ]
  },
  {
   "cell_type": "markdown",
   "id": "6a4465d1",
   "metadata": {},
   "source": [
    "### Decision Tree Classification"
   ]
  },
  {
   "cell_type": "code",
   "execution_count": 34,
   "id": "7b5c1818",
   "metadata": {},
   "outputs": [
    {
     "data": {
      "text/plain": [
       "array([0.80889621, 0.91745543, 0.91944483, 0.91554374, 0.91876098])"
      ]
     },
     "execution_count": 34,
     "metadata": {},
     "output_type": "execute_result"
    }
   ],
   "source": [
    "tree = DecisionTreeClassifier()\n",
    "cross_val_score(tree, X_train_res, y_train_res)"
   ]
  },
  {
   "cell_type": "code",
   "execution_count": 35,
   "id": "86af3c18",
   "metadata": {},
   "outputs": [
    {
     "name": "stdout",
     "output_type": "stream",
     "text": [
      "              precision    recall  f1-score   support\n",
      "\n",
      "       False       0.91      0.88      0.89    160853\n",
      "        True       0.89      0.91      0.90    160853\n",
      "\n",
      "    accuracy                           0.90    321706\n",
      "   macro avg       0.90      0.90      0.90    321706\n",
      "weighted avg       0.90      0.90      0.90    321706\n",
      "\n"
     ]
    }
   ],
   "source": [
    "print(classification_report(y_train_res, cross_val_predict(tree, X_train_res, y_train_res)))"
   ]
  },
  {
   "cell_type": "code",
   "execution_count": 36,
   "id": "0e345aa2",
   "metadata": {},
   "outputs": [
    {
     "name": "stdout",
     "output_type": "stream",
     "text": [
      "train size [ 25736  83643 141550 199457 257364] \n",
      "train score [[1.         0.99801834 0.99801834 0.99801834 0.99801834]\n",
      " [1.         0.99355595 0.99347226 0.99524168 0.99524168]\n",
      " [0.99866478 0.99141646 0.99130343 0.99158601 0.99281526]\n",
      " [0.99682137 0.99221887 0.99219882 0.99240939 0.99229909]\n",
      " [0.99701979 0.99361993 0.99358885 0.99372873 0.9936005 ]] \n",
      "val score [[0.5        0.64915062 0.64950809 0.648187   0.65086026]\n",
      " [0.5        0.7413158  0.74515472 0.70135683 0.70443419]\n",
      " [0.69208293 0.77773115 0.78292224 0.78149236 0.7516669 ]\n",
      " [0.78511703 0.90247276 0.90505277 0.90085637 0.90472638]\n",
      " [0.80923813 0.91705134 0.91960025 0.91587013 0.91947592]]\n"
     ]
    },
    {
     "data": {
      "image/png": "[encoded data removed]",
      "text/plain": [
       "<Figure size 432x288 with 1 Axes>"
      ]
     },
     "metadata": {
      "needs_background": "light"
     },
     "output_type": "display_data"
    }
   ],
   "source": [
    "val_curve(tree)"
   ]
  },
  {
   "cell_type": "markdown",
   "id": "bf0f2fb6",
   "metadata": {},
   "source": [
    "By curve, tree classifier is overfitting"
   ]
  },
  {
   "cell_type": "markdown",
   "id": "bc8a9b48",
   "metadata": {},
   "source": [
    "### SGD for classification"
   ]
  },
  {
   "cell_type": "code",
   "execution_count": 37,
   "id": "7af077d6",
   "metadata": {},
   "outputs": [
    {
     "data": {
      "text/plain": [
       "array([0.77111374, 0.79499852, 0.79403491, 0.79089539, 0.78996285])"
      ]
     },
     "execution_count": 37,
     "metadata": {},
     "output_type": "execute_result"
    }
   ],
   "source": [
    "sc = SGDClassifier(loss = 'hinge', alpha = 0.1)\n",
    "cross_val_score(sc, X_train_res, y_train_res)"
   ]
  },
  {
   "cell_type": "code",
   "execution_count": 38,
   "id": "48f54c5d",
   "metadata": {},
   "outputs": [
    {
     "name": "stdout",
     "output_type": "stream",
     "text": [
      "              precision    recall  f1-score   support\n",
      "\n",
      "       False       0.83      0.74      0.78    160853\n",
      "        True       0.76      0.85      0.80    160853\n",
      "\n",
      "    accuracy                           0.79    321706\n",
      "   macro avg       0.80      0.79      0.79    321706\n",
      "weighted avg       0.80      0.79      0.79    321706\n",
      "\n"
     ]
    }
   ],
   "source": [
    "print(classification_report(y_train_res, cross_val_predict(sc, X_train_res, y_train_res)))"
   ]
  },
  {
   "cell_type": "markdown",
   "id": "bceae200",
   "metadata": {},
   "source": [
    "As SGD classifier also linear model as logistic regression has similar curve"
   ]
  },
  {
   "cell_type": "code",
   "execution_count": 39,
   "id": "1cfbe345",
   "metadata": {},
   "outputs": [
    {
     "name": "stdout",
     "output_type": "stream",
     "text": [
      "train size [ 25736  83643 141550 199457 257364] \n",
      "train score [[       nan 0.89881878 0.89881878 0.89881878 0.89881878]\n",
      " [       nan 0.85707112 0.85707112 0.89705056 0.89705056]\n",
      " [0.90909219 0.87397386 0.87397386 0.87397386 0.8969834 ]\n",
      " [0.80104985 0.78321643 0.77818277 0.78653544 0.78334177]\n",
      " [0.80412567 0.78637261 0.79225921 0.79412816 0.79179295]] \n",
      "val score [[       nan 0.50000777 0.50000777 0.49999223 0.49999223]\n",
      " [       nan 0.50000777 0.50000777 0.49999223 0.49999223]\n",
      " [0.5        0.50000777 0.50000777 0.49999223 0.49999223]\n",
      " [0.7329738  0.76826596 0.75165136 0.76703812 0.75808582]\n",
      " [0.77335178 0.79369298 0.79861985 0.79663045 0.80146407]]\n"
     ]
    },
    {
     "data": {
      "image/png": "[encoded data removed]",
      "text/plain": [
       "<Figure size 432x288 with 1 Axes>"
      ]
     },
     "metadata": {
      "needs_background": "light"
     },
     "output_type": "display_data"
    }
   ],
   "source": [
    "val_curve(sc)"
   ]
  },
  {
   "cell_type": "markdown",
   "id": "f746b196",
   "metadata": {},
   "source": [
    "### Naive Bayes' probability prediction"
   ]
  },
  {
   "cell_type": "code",
   "execution_count": 40,
   "id": "5d85719f",
   "metadata": {},
   "outputs": [
    {
     "data": {
      "text/plain": [
       "array([0.74867116, 0.78139911, 0.78240935, 0.77970501, 0.78436767])"
      ]
     },
     "execution_count": 40,
     "metadata": {},
     "output_type": "execute_result"
    }
   ],
   "source": [
    "nb = GaussianNB()\n",
    "cross_val_score(nb, X_train_res, y_train_res)"
   ]
  },
  {
   "cell_type": "code",
   "execution_count": 41,
   "id": "9258a7d4",
   "metadata": {},
   "outputs": [
    {
     "name": "stdout",
     "output_type": "stream",
     "text": [
      "              precision    recall  f1-score   support\n",
      "\n",
      "       False       0.85      0.67      0.75    160853\n",
      "        True       0.73      0.88      0.80    160853\n",
      "\n",
      "    accuracy                           0.78    321706\n",
      "   macro avg       0.79      0.78      0.77    321706\n",
      "weighted avg       0.79      0.78      0.77    321706\n",
      "\n"
     ]
    }
   ],
   "source": [
    "print(classification_report(y_train_res, cross_val_predict(nb, X_train_res, y_train_res)))"
   ]
  },
  {
   "cell_type": "code",
   "execution_count": 42,
   "id": "e1798cd7",
   "metadata": {},
   "outputs": [
    {
     "name": "stdout",
     "output_type": "stream",
     "text": [
      "train size [ 25736  83643 141550 199457 257364] \n",
      "train score [[1.         0.81710445 0.81710445 0.81710445 0.81710445]\n",
      " [1.         0.79492605 0.79454348 0.8149636  0.8149636 ]\n",
      " [0.77499823 0.80195691 0.80190039 0.80320735 0.81646768]\n",
      " [0.75250305 0.75914608 0.75913104 0.76034433 0.75923131]\n",
      " [0.77644892 0.774681   0.77487916 0.7754853  0.77479368]] \n",
      "val score [[0.5        0.73666869 0.73882905 0.73531652 0.73889122]\n",
      " [0.5        0.73921761 0.74184424 0.73348254 0.73632676]\n",
      " [0.75512107 0.73781881 0.74019676 0.73671531 0.734757  ]\n",
      " [0.75395543 0.78517586 0.78753827 0.78329525 0.78839309]\n",
      " [0.74867116 0.78139911 0.78242489 0.77970501 0.78436767]]\n"
     ]
    },
    {
     "data": {
      "image/png": "[encoded data removed]",
      "text/plain": [
       "<Figure size 432x288 with 1 Axes>"
      ]
     },
     "metadata": {
      "needs_background": "light"
     },
     "output_type": "display_data"
    }
   ],
   "source": [
    "val_curve(nb)"
   ]
  },
  {
   "cell_type": "markdown",
   "id": "4174f8fb",
   "metadata": {},
   "source": [
    "Strange result on 200 000 sample size data"
   ]
  },
  {
   "cell_type": "markdown",
   "id": "23ebb7a0",
   "metadata": {},
   "source": [
    "**Best results shown by linear models(*Logistic Regression and SGD*), so let's fine-tune this models and also tree classifier**"
   ]
  },
  {
   "cell_type": "markdown",
   "id": "b5c68c7a",
   "metadata": {},
   "source": [
    "# Fine-tuning and predicting(testing)"
   ]
  },
  {
   "cell_type": "markdown",
   "id": "d7de615d",
   "metadata": {},
   "source": [
    "### Logistic Regression fine-tuning"
   ]
  },
  {
   "cell_type": "code",
   "execution_count": 50,
   "id": "7653e45c",
   "metadata": {},
   "outputs": [],
   "source": [
    "logit_ft = GridSearchCV(LogisticRegression(max_iter = 500), param_grid={\n",
    "    'C':[0.01, 0.1, 0.5, 0.8, 1.0],\n",
    "    'solver':['newton-cg', 'lbfgs', 'liblinear', 'saga']\n",
    "}, scoring = 'accuracy')"
   ]
  },
  {
   "cell_type": "code",
   "execution_count": 52,
   "id": "0efe5031",
   "metadata": {},
   "outputs": [
    {
     "name": "stderr",
     "output_type": "stream",
     "text": [
      "c:\\Python\\Python39\\lib\\site-packages\\scipy\\optimize\\linesearch.py:327: LineSearchWarning: The line search algorithm did not converge\n",
      "  warn('The line search algorithm did not converge', LineSearchWarning)\n",
      "c:\\Python\\Python39\\lib\\site-packages\\sklearn\\utils\\optimize.py:203: UserWarning: Line Search failed\n",
      "  warnings.warn(\"Line Search failed\")\n",
      "c:\\Python\\Python39\\lib\\site-packages\\scipy\\optimize\\linesearch.py:327: LineSearchWarning: The line search algorithm did not converge\n",
      "  warn('The line search algorithm did not converge', LineSearchWarning)\n",
      "c:\\Python\\Python39\\lib\\site-packages\\sklearn\\utils\\optimize.py:203: UserWarning: Line Search failed\n",
      "  warnings.warn(\"Line Search failed\")\n"
     ]
    },
    {
     "data": {
      "text/plain": [
       "GridSearchCV(estimator=LogisticRegression(max_iter=500),\n",
       "             param_grid={'C': [0.01, 0.1, 0.5, 0.8, 1.0],\n",
       "                         'solver': ['newton-cg', 'lbfgs', 'liblinear', 'saga']},\n",
       "             scoring='accuracy')"
      ]
     },
     "execution_count": 52,
     "metadata": {},
     "output_type": "execute_result"
    }
   ],
   "source": [
    "logit_ft.fit(X_train_res, y_train_res)"
   ]
  },
  {
   "cell_type": "code",
   "execution_count": 53,
   "id": "47b084c1",
   "metadata": {},
   "outputs": [
    {
     "name": "stdout",
     "output_type": "stream",
     "text": [
      "{'C': 0.5, 'solver': 'lbfgs'}\n",
      "0.8111289295781867\n"
     ]
    }
   ],
   "source": [
    "print(logit_ft.best_params_)\n",
    "print(logit_ft.best_score_)"
   ]
  },
  {
   "cell_type": "code",
   "execution_count": 55,
   "id": "981c668c",
   "metadata": {},
   "outputs": [
    {
     "name": "stdout",
     "output_type": "stream",
     "text": [
      "              precision    recall  f1-score   support\n",
      "\n",
      "       False       0.82      0.79      0.81    160853\n",
      "        True       0.80      0.83      0.81    160853\n",
      "\n",
      "    accuracy                           0.81    321706\n",
      "   macro avg       0.81      0.81      0.81    321706\n",
      "weighted avg       0.81      0.81      0.81    321706\n",
      "\n"
     ]
    }
   ],
   "source": [
    "logit_best = logit_ft.best_estimator_\n",
    "print(classification_report(y_train_res, cross_val_predict(logit_best, X_train_res, y_train_res)))"
   ]
  },
  {
   "cell_type": "code",
   "execution_count": 62,
   "id": "b28c6049",
   "metadata": {},
   "outputs": [
    {
     "name": "stdout",
     "output_type": "stream",
     "text": [
      "              precision    recall  f1-score   support\n",
      "\n",
      "       False       0.96      0.79      0.87     40198\n",
      "        True       0.28      0.68      0.39      4617\n",
      "\n",
      "    accuracy                           0.78     44815\n",
      "   macro avg       0.62      0.74      0.63     44815\n",
      "weighted avg       0.89      0.78      0.82     44815\n",
      "\n"
     ]
    }
   ],
   "source": [
    "logit_best.fit(X_train_res, y_train_res)\n",
    "y_pred_logit = logit_best.predict(X_test)\n",
    "print(classification_report(y_test, y_pred_logit))"
   ]
  },
  {
   "cell_type": "code",
   "execution_count": 63,
   "id": "81ad1568",
   "metadata": {},
   "outputs": [
    {
     "data": {
      "text/plain": [
       "array([[31889,  8309],\n",
       "       [ 1463,  3154]], dtype=int64)"
      ]
     },
     "execution_count": 63,
     "metadata": {},
     "output_type": "execute_result"
    }
   ],
   "source": [
    "confusion_matrix(y_test, y_pred_logit)"
   ]
  },
  {
   "cell_type": "markdown",
   "id": "4f86d8ea",
   "metadata": {},
   "source": [
    "### SGD fine-tuning"
   ]
  },
  {
   "cell_type": "code",
   "execution_count": 56,
   "id": "a852f513",
   "metadata": {},
   "outputs": [],
   "source": [
    "sgd_ft = GridSearchCV(SGDClassifier(), param_grid={\n",
    "    'loss':['hinge', 'log', 'squared_error'],\n",
    "    'alpha':[1.0, 0.1, 0.01, 0.001]\n",
    "}, scoring = 'accuracy')"
   ]
  },
  {
   "cell_type": "code",
   "execution_count": 57,
   "id": "54b427c9",
   "metadata": {},
   "outputs": [
    {
     "name": "stderr",
     "output_type": "stream",
     "text": [
      "c:\\Python\\Python39\\lib\\site-packages\\sklearn\\linear_model\\_stochastic_gradient.py:696: ConvergenceWarning: Maximum number of iteration reached before convergence. Consider increasing max_iter to improve the fit.\n",
      "  warnings.warn(\n",
      "c:\\Python\\Python39\\lib\\site-packages\\sklearn\\linear_model\\_stochastic_gradient.py:696: ConvergenceWarning: Maximum number of iteration reached before convergence. Consider increasing max_iter to improve the fit.\n",
      "  warnings.warn(\n",
      "c:\\Python\\Python39\\lib\\site-packages\\sklearn\\linear_model\\_stochastic_gradient.py:696: ConvergenceWarning: Maximum number of iteration reached before convergence. Consider increasing max_iter to improve the fit.\n",
      "  warnings.warn(\n",
      "c:\\Python\\Python39\\lib\\site-packages\\sklearn\\linear_model\\_stochastic_gradient.py:696: ConvergenceWarning: Maximum number of iteration reached before convergence. Consider increasing max_iter to improve the fit.\n",
      "  warnings.warn(\n",
      "c:\\Python\\Python39\\lib\\site-packages\\sklearn\\linear_model\\_stochastic_gradient.py:696: ConvergenceWarning: Maximum number of iteration reached before convergence. Consider increasing max_iter to improve the fit.\n",
      "  warnings.warn(\n",
      "c:\\Python\\Python39\\lib\\site-packages\\sklearn\\linear_model\\_stochastic_gradient.py:696: ConvergenceWarning: Maximum number of iteration reached before convergence. Consider increasing max_iter to improve the fit.\n",
      "  warnings.warn(\n",
      "c:\\Python\\Python39\\lib\\site-packages\\sklearn\\linear_model\\_stochastic_gradient.py:696: ConvergenceWarning: Maximum number of iteration reached before convergence. Consider increasing max_iter to improve the fit.\n",
      "  warnings.warn(\n",
      "c:\\Python\\Python39\\lib\\site-packages\\sklearn\\linear_model\\_stochastic_gradient.py:696: ConvergenceWarning: Maximum number of iteration reached before convergence. Consider increasing max_iter to improve the fit.\n",
      "  warnings.warn(\n",
      "c:\\Python\\Python39\\lib\\site-packages\\sklearn\\linear_model\\_stochastic_gradient.py:696: ConvergenceWarning: Maximum number of iteration reached before convergence. Consider increasing max_iter to improve the fit.\n",
      "  warnings.warn(\n",
      "c:\\Python\\Python39\\lib\\site-packages\\sklearn\\linear_model\\_stochastic_gradient.py:696: ConvergenceWarning: Maximum number of iteration reached before convergence. Consider increasing max_iter to improve the fit.\n",
      "  warnings.warn(\n",
      "c:\\Python\\Python39\\lib\\site-packages\\sklearn\\linear_model\\_stochastic_gradient.py:696: ConvergenceWarning: Maximum number of iteration reached before convergence. Consider increasing max_iter to improve the fit.\n",
      "  warnings.warn(\n",
      "c:\\Python\\Python39\\lib\\site-packages\\sklearn\\linear_model\\_stochastic_gradient.py:696: ConvergenceWarning: Maximum number of iteration reached before convergence. Consider increasing max_iter to improve the fit.\n",
      "  warnings.warn(\n",
      "c:\\Python\\Python39\\lib\\site-packages\\sklearn\\linear_model\\_stochastic_gradient.py:696: ConvergenceWarning: Maximum number of iteration reached before convergence. Consider increasing max_iter to improve the fit.\n",
      "  warnings.warn(\n",
      "c:\\Python\\Python39\\lib\\site-packages\\sklearn\\linear_model\\_stochastic_gradient.py:696: ConvergenceWarning: Maximum number of iteration reached before convergence. Consider increasing max_iter to improve the fit.\n",
      "  warnings.warn(\n",
      "c:\\Python\\Python39\\lib\\site-packages\\sklearn\\linear_model\\_stochastic_gradient.py:696: ConvergenceWarning: Maximum number of iteration reached before convergence. Consider increasing max_iter to improve the fit.\n",
      "  warnings.warn(\n"
     ]
    },
    {
     "data": {
      "text/plain": [
       "GridSearchCV(estimator=SGDClassifier(),\n",
       "             param_grid={'alpha': [1.0, 0.1, 0.01, 0.001],\n",
       "                         'loss': ['hinge', 'log', 'squared_error']},\n",
       "             scoring='accuracy')"
      ]
     },
     "execution_count": 57,
     "metadata": {},
     "output_type": "execute_result"
    }
   ],
   "source": [
    "sgd_ft.fit(X_train_res, y_train_res)"
   ]
  },
  {
   "cell_type": "code",
   "execution_count": 58,
   "id": "3545860d",
   "metadata": {},
   "outputs": [
    {
     "name": "stdout",
     "output_type": "stream",
     "text": [
      "{'alpha': 0.01, 'loss': 'hinge'}\n",
      "0.80830956069466\n"
     ]
    }
   ],
   "source": [
    "print(sgd_ft.best_params_)\n",
    "print(sgd_ft.best_score_)"
   ]
  },
  {
   "cell_type": "code",
   "execution_count": 59,
   "id": "4f7637f4",
   "metadata": {},
   "outputs": [
    {
     "name": "stdout",
     "output_type": "stream",
     "text": [
      "              precision    recall  f1-score   support\n",
      "\n",
      "       False       0.85      0.75      0.80    160853\n",
      "        True       0.78      0.86      0.82    160853\n",
      "\n",
      "    accuracy                           0.81    321706\n",
      "   macro avg       0.81      0.81      0.81    321706\n",
      "weighted avg       0.81      0.81      0.81    321706\n",
      "\n"
     ]
    }
   ],
   "source": [
    "sgd_best = sgd_ft.best_estimator_\n",
    "print(classification_report(y_train_res, cross_val_predict(sgd_best, X_train_res, y_train_res)))"
   ]
  },
  {
   "cell_type": "code",
   "execution_count": 64,
   "id": "c0b909f4",
   "metadata": {},
   "outputs": [
    {
     "name": "stdout",
     "output_type": "stream",
     "text": [
      "              precision    recall  f1-score   support\n",
      "\n",
      "       False       0.96      0.79      0.86     40198\n",
      "        True       0.27      0.70      0.39      4617\n",
      "\n",
      "    accuracy                           0.78     44815\n",
      "   macro avg       0.61      0.74      0.63     44815\n",
      "weighted avg       0.89      0.78      0.81     44815\n",
      "\n"
     ]
    }
   ],
   "source": [
    "sgd_best.fit(X_train_res, y_train_res)\n",
    "y_pred_sgd = sgd_best.predict(X_test)\n",
    "print(classification_report(y_test, y_pred_sgd))"
   ]
  },
  {
   "cell_type": "code",
   "execution_count": 65,
   "id": "81a077c4",
   "metadata": {},
   "outputs": [
    {
     "data": {
      "text/plain": [
       "array([[31563,  8635],\n",
       "       [ 1394,  3223]], dtype=int64)"
      ]
     },
     "execution_count": 65,
     "metadata": {},
     "output_type": "execute_result"
    }
   ],
   "source": [
    "confusion_matrix(y_test, y_pred_sgd)"
   ]
  },
  {
   "cell_type": "markdown",
   "id": "57296e2e",
   "metadata": {},
   "source": [
    "### Desicion tree fine-tuning"
   ]
  },
  {
   "cell_type": "code",
   "execution_count": 66,
   "id": "b6de2909",
   "metadata": {},
   "outputs": [],
   "source": [
    "tree_ft = GridSearchCV(DecisionTreeClassifier(),param_grid = {\n",
    "    \"max_depth\": [3,5,10,15,20,None],\n",
    "    \"min_samples_split\": [2,5,7,10],\n",
    "    \"min_samples_leaf\": [1,2,5]\n",
    "}, scoring = 'roc_auc', n_jobs=-1, cv = 3)"
   ]
  },
  {
   "cell_type": "code",
   "execution_count": 67,
   "id": "b1e8ac0e",
   "metadata": {},
   "outputs": [
    {
     "data": {
      "text/plain": [
       "GridSearchCV(cv=3, estimator=DecisionTreeClassifier(), n_jobs=-1,\n",
       "             param_grid={'max_depth': [3, 5, 10, 15, 20, None],\n",
       "                         'min_samples_leaf': [1, 2, 5],\n",
       "                         'min_samples_split': [2, 5, 7, 10]},\n",
       "             scoring='roc_auc')"
      ]
     },
     "execution_count": 67,
     "metadata": {},
     "output_type": "execute_result"
    }
   ],
   "source": [
    "tree_ft.fit(X_train_res, y_train_res)"
   ]
  },
  {
   "cell_type": "code",
   "execution_count": 70,
   "id": "58703e94",
   "metadata": {},
   "outputs": [
    {
     "name": "stdout",
     "output_type": "stream",
     "text": [
      "{'max_depth': 20, 'min_samples_leaf': 5, 'min_samples_split': 2}\n",
      "0.9348209878582986\n"
     ]
    }
   ],
   "source": [
    "print(tree_ft.best_params_)\n",
    "print(tree_ft.best_score_)"
   ]
  },
  {
   "cell_type": "code",
   "execution_count": 71,
   "id": "6ccbeaef",
   "metadata": {},
   "outputs": [
    {
     "name": "stdout",
     "output_type": "stream",
     "text": [
      "              precision    recall  f1-score   support\n",
      "\n",
      "       False       0.89      0.87      0.88    160853\n",
      "        True       0.87      0.89      0.88    160853\n",
      "\n",
      "    accuracy                           0.88    321706\n",
      "   macro avg       0.88      0.88      0.88    321706\n",
      "weighted avg       0.88      0.88      0.88    321706\n",
      "\n"
     ]
    }
   ],
   "source": [
    "tree_best = tree_ft.best_estimator_\n",
    "print(classification_report(y_train_res, cross_val_predict(tree_best, X_train_res, y_train_res)))"
   ]
  },
  {
   "cell_type": "code",
   "execution_count": 73,
   "id": "b41a562a",
   "metadata": {},
   "outputs": [
    {
     "name": "stdout",
     "output_type": "stream",
     "text": [
      "              precision    recall  f1-score   support\n",
      "\n",
      "       False       0.93      0.88      0.90     40198\n",
      "        True       0.28      0.42      0.34      4617\n",
      "\n",
      "    accuracy                           0.83     44815\n",
      "   macro avg       0.60      0.65      0.62     44815\n",
      "weighted avg       0.86      0.83      0.84     44815\n",
      "\n"
     ]
    }
   ],
   "source": [
    "tree_best.fit(X_train_res, y_train_res)\n",
    "y_pred_tree = tree_best.predict(X_test)\n",
    "print(classification_report(y_test, y_pred_tree))"
   ]
  },
  {
   "cell_type": "code",
   "execution_count": 74,
   "id": "4fd351a0",
   "metadata": {},
   "outputs": [
    {
     "name": "stdout",
     "output_type": "stream",
     "text": [
      "train size [ 25736  83643 141550 199457 257364] \n",
      "train score [[1.         0.92640659 0.9264843  0.92617345 0.92632888]\n",
      " [1.         0.90249035 0.90343484 0.92322131 0.92328109]\n",
      " [0.96544684 0.90916284 0.90789827 0.90879548 0.92204875]\n",
      " [0.93453727 0.90514748 0.90333255 0.90598976 0.90407958]\n",
      " [0.93790118 0.91579242 0.91650736 0.91656953 0.91701637]] \n",
      "val score [[0.5        0.62120576 0.6182372  0.61327925 0.61941841]\n",
      " [0.5        0.68175813 0.68541055 0.63409024 0.63457205]\n",
      " [0.65569923 0.68287717 0.67732861 0.67787259 0.65527424]\n",
      " [0.76530105 0.88730359 0.88742792 0.88408635 0.88773877]\n",
      " [0.79271704 0.90292349 0.90122939 0.89863384 0.90317216]]\n"
     ]
    },
    {
     "data": {
      "image/png": "[encoded data removed]",
      "text/plain": [
       "<Figure size 432x288 with 1 Axes>"
      ]
     },
     "metadata": {
      "needs_background": "light"
     },
     "output_type": "display_data"
    }
   ],
   "source": [
    "val_curve(tree_best)"
   ]
  },
  {
   "cell_type": "code",
   "execution_count": 75,
   "id": "3007d264",
   "metadata": {},
   "outputs": [
    {
     "data": {
      "text/plain": [
       "array([[35185,  5013],\n",
       "       [ 2679,  1938]], dtype=int64)"
      ]
     },
     "execution_count": 75,
     "metadata": {},
     "output_type": "execute_result"
    }
   ],
   "source": [
    "confusion_matrix(y_test, y_pred_tree)"
   ]
  },
  {
   "cell_type": "markdown",
   "id": "5f269cd1",
   "metadata": {},
   "source": [
    "##### By the results of fine-tununig and testing several models (Logit, SGD, tree):\n",
    "##### SGD classifier is good enough model for this situation, because Type-II error is most valuable in this case(need to minimize) (Logit - 1463, SGD - 1394, tree - 2679) "
   ]
  }
 ],
 "metadata": {
  "interpreter": {
   "hash": "25034407fed5d681614dac11a1c0537e8cb49e3a8883c071303eea01322943d9"
  },
  "kernelspec": {
   "display_name": "Python 3.9.1 64-bit",
   "language": "python",
   "name": "python3"
  },
  "language_info": {
   "codemirror_mode": {
    "name": "ipython",
    "version": 3
   },
   "file_extension": ".py",
   "mimetype": "text/x-python",
   "name": "python",
   "nbconvert_exporter": "python",
   "pygments_lexer": "ipython3",
   "version": "3.9.1"
  }
 },
 "nbformat": 4,
 "nbformat_minor": 5
}
